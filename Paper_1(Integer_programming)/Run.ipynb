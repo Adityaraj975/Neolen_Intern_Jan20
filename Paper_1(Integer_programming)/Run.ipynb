{
 "cells": [
  {
   "cell_type": "markdown",
   "metadata": {},
   "source": [
    "# Testing to get what data range to use"
   ]
  },
  {
   "cell_type": "code",
   "execution_count": 34,
   "metadata": {},
   "outputs": [
    {
     "data": {
      "text/html": [
       "<style>.container { width:80% !important; }</style>"
      ],
      "text/plain": [
       "<IPython.core.display.HTML object>"
      ]
     },
     "metadata": {},
     "output_type": "display_data"
    },
    {
     "name": "stdout",
     "output_type": "stream",
     "text": [
      "Dream Team for match between Mumbai Indians and Rajasthan Royals are \n",
      "Id 151 Ben Stokes having points 162\n",
      "Id 32 Sanju Samson having points 75\n",
      "Id 604 Jofra Archer having points 58\n",
      "Id 1001 Shreyas Gopal having points 50\n",
      "Id 1067 Kartik Tyagi having points 19\n",
      "Id 988 Ishan Kishan having points 44\n",
      "Id 987 Suryakumar Yadav having points 47\n",
      "Id 387 Saurabh Tiwary having points 41\n",
      "Id 423 Kieron Pollard having points 17\n",
      "Id 30 Hardik Pandya having points 91\n",
      "Id 75 James Pattinson having points 44\n",
      " \n",
      "Score for Dream Team is 648\n",
      "our score for team number 1 is 346\n",
      "our score for team number 2 is 421\n",
      "our score for team number 3 is 377\n",
      "our score for team number 4 is 377\n",
      "our score for team number 5 is 363\n",
      "our score for team number 6 is 377\n",
      "our score for team number 7 is 259\n",
      "our score for team number 8 is 406\n",
      "our score for team number 9 is 406\n",
      "our score for team number 10 is 377\n"
     ]
    },
    {
     "data": {
      "text/html": [
       "<style>.container { width:80% !important; }</style>"
      ],
      "text/plain": [
       "<IPython.core.display.HTML object>"
      ]
     },
     "metadata": {},
     "output_type": "display_data"
    },
    {
     "name": "stdout",
     "output_type": "stream",
     "text": [
      "Dream Team for match between Kolkata Knight Riders and Kings XI Punjab are \n",
      "Id 33 Shubman Gill having points 80\n",
      "Id 439 Eoin Morgan having points 51\n",
      "Id 592 Lockie Ferguson having points 55\n",
      "Id 1028 Varun Chakravarthy having points 27\n",
      "Id 20 KL Rahul having points 32\n",
      "Id 985 Mandeep Singh having points 88\n",
      "Id 120 Chris Gayle having points 84\n",
      "Id 603 Nicholas Pooran having points 10\n",
      "Id 156 Chris Jordan having points 50\n",
      "Id 1070 Ravi Bishnoi having points 52\n",
      "Id 28 Mohammed Shami having points 75\n",
      " \n",
      "Score for Dream Team is 604\n",
      "our score for team number 1 is 305\n",
      "our score for team number 2 is 294\n",
      "our score for team number 3 is 294\n",
      "our score for team number 4 is 314\n",
      "our score for team number 5 is 288\n",
      "our score for team number 6 is 315\n",
      "our score for team number 7 is 305\n",
      "our score for team number 8 is 260\n",
      "our score for team number 9 is 317\n",
      "our score for team number 10 is 317\n"
     ]
    },
    {
     "data": {
      "text/html": [
       "<style>.container { width:80% !important; }</style>"
      ],
      "text/plain": [
       "<IPython.core.display.HTML object>"
      ]
     },
     "metadata": {},
     "output_type": "display_data"
    },
    {
     "name": "stdout",
     "output_type": "stream",
     "text": [
      "Dream Team for match between Delhi Capitals and Sunrisers Hyderabad are \n",
      "Id 17 David Warner having points 98\n",
      "Id 82 Wriddhiman Saha having points 113\n",
      "Id 29 Manish Pandey having points 51\n",
      "Id 591 Vijay Shankar having points 25\n",
      "Id 599 Rashid Khan having points 81\n",
      "Id 1007 Sandeep Sharma having points 50\n",
      "Id 1044 T Natarajan having points 50\n",
      "Id 274 Shahbaz Nadeem having points 25\n",
      "Id 117 Ajinkya Rahane having points 32\n",
      "Id 253 Rishabh Pant having points 42\n",
      "Id 64 Ravichandran Ashwin having points 27\n",
      " \n",
      "Score for Dream Team is 594\n",
      "our score for team number 1 is 303\n",
      "our score for team number 2 is 267\n",
      "our score for team number 3 is 285\n",
      "our score for team number 4 is 290\n",
      "our score for team number 5 is 311\n",
      "our score for team number 6 is 303\n",
      "our score for team number 7 is 228\n",
      "our score for team number 8 is 298\n",
      "our score for team number 9 is 298\n",
      "our score for team number 10 is 311\n"
     ]
    },
    {
     "data": {
      "text/html": [
       "<style>.container { width:80% !important; }</style>"
      ],
      "text/plain": [
       "<IPython.core.display.HTML object>"
      ]
     },
     "metadata": {},
     "output_type": "display_data"
    },
    {
     "name": "stdout",
     "output_type": "stream",
     "text": [
      "Dream Team for match between Mumbai Indians and Royal Challengers Bangalore are \n",
      "Id 987 Suryakumar Yadav having points 106\n",
      "Id 988 Ishan Kishan having points 31\n",
      "Id 423 Kieron Pollard having points 32\n",
      "Id 93 Trent Boult having points 31\n",
      "Id 22 Jasprit Bumrah having points 81\n",
      "Id 1063 Devdutt Padikkal having points 105\n",
      "Id 547 Chris Morris having points 46\n",
      "Id 553 Gurkeerat Singh Mann having points 24\n",
      "Id 23 Yuzvendra Chahal having points 48\n",
      "Id 589 Mohammed Siraj having points 58\n",
      "Id 1064 Josh Philippe having points 40\n",
      " \n",
      "Score for Dream Team is 602\n",
      "our score for team number 1 is 277\n",
      "our score for team number 2 is 292\n",
      "our score for team number 3 is 304\n",
      "our score for team number 4 is 302\n",
      "our score for team number 5 is 292\n",
      "our score for team number 6 is 304\n",
      "our score for team number 7 is 316\n",
      "our score for team number 8 is 275\n",
      "our score for team number 9 is 275\n",
      "our score for team number 10 is 275\n"
     ]
    },
    {
     "data": {
      "text/html": [
       "<style>.container { width:80% !important; }</style>"
      ],
      "text/plain": [
       "<IPython.core.display.HTML object>"
      ]
     },
     "metadata": {},
     "output_type": "display_data"
    },
    {
     "name": "stdout",
     "output_type": "stream",
     "text": [
      "Dream Team for match between Chennai Super Kings and Kolkata Knight Riders are \n",
      "Id 33 Shubman Gill having points 30\n",
      "Id 1068 Ruturaj Gaikwad having points 100\n",
      "Id 475 Ambati Rayudu having points 54\n",
      "Id 26 Ravindra Jadeja having points 75\n",
      "Id 206 Mitchell Santner having points 23\n",
      "Id 160 Karn Sharma having points 25\n",
      "Id 247 Lungi Ngidi having points 50\n",
      "Id 992 Nitish Rana having points 111\n",
      "Id 251 Dinesh Karthik having points 24\n",
      "Id 2 Pat Cummins having points 50\n",
      "Id 1028 Varun Chakravarthy having points 52\n",
      " \n",
      "Score for Dream Team is 594\n",
      "our score for team number 1 is 355\n",
      "our score for team number 2 is 366\n",
      "our score for team number 3 is 345\n",
      "our score for team number 4 is 317\n",
      "our score for team number 5 is 315\n",
      "our score for team number 6 is 344\n",
      "our score for team number 7 is 337\n",
      "our score for team number 8 is 313\n",
      "our score for team number 9 is 345\n",
      "our score for team number 10 is 355\n"
     ]
    },
    {
     "data": {
      "text/html": [
       "<style>.container { width:80% !important; }</style>"
      ],
      "text/plain": [
       "<IPython.core.display.HTML object>"
      ]
     },
     "metadata": {},
     "output_type": "display_data"
    },
    {
     "name": "stdout",
     "output_type": "stream",
     "text": [
      "Dream Team for match between Kings XI Punjab and Rajasthan Royals are \n",
      "Id 156 Chris Jordan having points 19\n",
      "Id 996 Murugan Ashwin having points 21\n",
      "Id 517 Robin Uthappa having points 37\n",
      "Id 151 Ben Stokes having points 131\n",
      "Id 32 Sanju Samson having points 61\n",
      "Id 20 KL Rahul having points 55\n",
      "Id 120 Chris Gayle having points 137\n",
      "Id 603 Nicholas Pooran having points 39\n",
      "Id 12 Steven Smith having points 36\n",
      "Id 154 Jos Buttler having points 29\n",
      "Id 604 Jofra Archer having points 50\n",
      " \n",
      "Score for Dream Team is 615\n",
      "our score for team number 1 is 369\n",
      "our score for team number 2 is 445\n",
      "our score for team number 3 is 493\n",
      "our score for team number 4 is 484\n",
      "our score for team number 5 is 463\n",
      "our score for team number 6 is 369\n",
      "our score for team number 7 is 493\n",
      "our score for team number 8 is 484\n",
      "our score for team number 9 is 363\n",
      "our score for team number 10 is 502\n",
      "55.642361663353554\n"
     ]
    }
   ],
   "source": [
    "date1=1\n",
    "year1 = 2014\n",
    "month1 = 1\n",
    "month2 = 10\n",
    "year2 = 2020\n",
    "test_year = 2020\n",
    "test_month = 10\n",
    "start_time = 12\n",
    "results = []\n",
    "for date in range(25,31):\n",
    "    res1 = []\n",
    "    test_date = date\n",
    "    date2 = date-1\n",
    "    %run ./Fantasy_Team_Pred.ipynb\n",
    "    res1.append(max_score)\n",
    "    for ps in pred_scores:\n",
    "        res1.append(ps)\n",
    "    results.append(res1)\n",
    "sum_cv = 0\n",
    "n_cv = 0\n",
    "for i in results:\n",
    "    for j in range(1,len(i)):\n",
    "        sum_cv = sum_cv + i[j]/i[0]\n",
    "        n_cv = n_cv+1\n",
    "print(sum_cv*100/n_cv)"
   ]
  },
  {
   "cell_type": "code",
   "execution_count": 35,
   "metadata": {},
   "outputs": [
    {
     "data": {
      "text/html": [
       "<style>.container { width:80% !important; }</style>"
      ],
      "text/plain": [
       "<IPython.core.display.HTML object>"
      ]
     },
     "metadata": {},
     "output_type": "display_data"
    },
    {
     "name": "stdout",
     "output_type": "stream",
     "text": [
      "Dream Team for match between Mumbai Indians and Rajasthan Royals are \n",
      "Id 151 Ben Stokes having points 162\n",
      "Id 32 Sanju Samson having points 75\n",
      "Id 604 Jofra Archer having points 58\n",
      "Id 1001 Shreyas Gopal having points 50\n",
      "Id 1067 Kartik Tyagi having points 19\n",
      "Id 988 Ishan Kishan having points 44\n",
      "Id 987 Suryakumar Yadav having points 47\n",
      "Id 387 Saurabh Tiwary having points 41\n",
      "Id 423 Kieron Pollard having points 17\n",
      "Id 30 Hardik Pandya having points 91\n",
      "Id 75 James Pattinson having points 44\n",
      " \n",
      "Score for Dream Team is 648\n",
      "our score for team number 1 is 406\n",
      "our score for team number 2 is 421\n",
      "our score for team number 3 is 406\n",
      "our score for team number 4 is 406\n",
      "our score for team number 5 is 421\n",
      "our score for team number 6 is 412\n",
      "our score for team number 7 is 412\n",
      "our score for team number 8 is 377\n",
      "our score for team number 9 is 421\n",
      "our score for team number 10 is 412\n"
     ]
    },
    {
     "data": {
      "text/html": [
       "<style>.container { width:80% !important; }</style>"
      ],
      "text/plain": [
       "<IPython.core.display.HTML object>"
      ]
     },
     "metadata": {},
     "output_type": "display_data"
    },
    {
     "name": "stdout",
     "output_type": "stream",
     "text": [
      "Dream Team for match between Kolkata Knight Riders and Kings XI Punjab are \n",
      "Id 33 Shubman Gill having points 80\n",
      "Id 439 Eoin Morgan having points 51\n",
      "Id 592 Lockie Ferguson having points 55\n",
      "Id 1028 Varun Chakravarthy having points 27\n",
      "Id 20 KL Rahul having points 32\n",
      "Id 985 Mandeep Singh having points 88\n",
      "Id 120 Chris Gayle having points 84\n",
      "Id 603 Nicholas Pooran having points 10\n",
      "Id 156 Chris Jordan having points 50\n",
      "Id 1070 Ravi Bishnoi having points 52\n",
      "Id 28 Mohammed Shami having points 75\n",
      " \n",
      "Score for Dream Team is 604\n",
      "our score for team number 1 is 294\n",
      "our score for team number 2 is 220\n",
      "our score for team number 3 is 277\n",
      "our score for team number 4 is 304\n",
      "our score for team number 5 is 272\n",
      "our score for team number 6 is 297\n",
      "our score for team number 7 is 272\n",
      "our score for team number 8 is 224\n",
      "our score for team number 9 is 306\n",
      "our score for team number 10 is 294\n"
     ]
    },
    {
     "data": {
      "text/html": [
       "<style>.container { width:80% !important; }</style>"
      ],
      "text/plain": [
       "<IPython.core.display.HTML object>"
      ]
     },
     "metadata": {},
     "output_type": "display_data"
    },
    {
     "name": "stdout",
     "output_type": "stream",
     "text": [
      "Dream Team for match between Delhi Capitals and Sunrisers Hyderabad are \n",
      "Id 17 David Warner having points 98\n",
      "Id 82 Wriddhiman Saha having points 113\n",
      "Id 29 Manish Pandey having points 51\n",
      "Id 591 Vijay Shankar having points 25\n",
      "Id 599 Rashid Khan having points 81\n",
      "Id 1007 Sandeep Sharma having points 50\n",
      "Id 1044 T Natarajan having points 50\n",
      "Id 274 Shahbaz Nadeem having points 25\n",
      "Id 117 Ajinkya Rahane having points 32\n",
      "Id 253 Rishabh Pant having points 42\n",
      "Id 64 Ravichandran Ashwin having points 27\n",
      " \n",
      "Score for Dream Team is 594\n",
      "our score for team number 1 is 277\n",
      "our score for team number 2 is 312\n",
      "our score for team number 3 is 298\n",
      "our score for team number 4 is 308\n",
      "our score for team number 5 is 211\n",
      "our score for team number 6 is 312\n",
      "our score for team number 7 is 311\n",
      "our score for team number 8 is 311\n",
      "our score for team number 9 is 303\n",
      "our score for team number 10 is 298\n"
     ]
    },
    {
     "data": {
      "text/html": [
       "<style>.container { width:80% !important; }</style>"
      ],
      "text/plain": [
       "<IPython.core.display.HTML object>"
      ]
     },
     "metadata": {},
     "output_type": "display_data"
    },
    {
     "name": "stdout",
     "output_type": "stream",
     "text": [
      "Dream Team for match between Mumbai Indians and Royal Challengers Bangalore are \n",
      "Id 987 Suryakumar Yadav having points 106\n",
      "Id 988 Ishan Kishan having points 31\n",
      "Id 423 Kieron Pollard having points 32\n",
      "Id 93 Trent Boult having points 31\n",
      "Id 22 Jasprit Bumrah having points 81\n",
      "Id 1063 Devdutt Padikkal having points 105\n",
      "Id 547 Chris Morris having points 46\n",
      "Id 553 Gurkeerat Singh Mann having points 24\n",
      "Id 23 Yuzvendra Chahal having points 48\n",
      "Id 589 Mohammed Siraj having points 58\n",
      "Id 1064 Josh Philippe having points 40\n",
      " \n",
      "Score for Dream Team is 602\n",
      "our score for team number 1 is 325\n",
      "our score for team number 2 is 362\n",
      "our score for team number 3 is 352\n",
      "our score for team number 4 is 352\n",
      "our score for team number 5 is 292\n",
      "our score for team number 6 is 371\n",
      "our score for team number 7 is 362\n",
      "our score for team number 8 is 354\n",
      "our score for team number 9 is 371\n",
      "our score for team number 10 is 342\n"
     ]
    },
    {
     "data": {
      "text/html": [
       "<style>.container { width:80% !important; }</style>"
      ],
      "text/plain": [
       "<IPython.core.display.HTML object>"
      ]
     },
     "metadata": {},
     "output_type": "display_data"
    },
    {
     "name": "stdout",
     "output_type": "stream",
     "text": [
      "Dream Team for match between Chennai Super Kings and Kolkata Knight Riders are \n",
      "Id 33 Shubman Gill having points 30\n",
      "Id 1068 Ruturaj Gaikwad having points 100\n",
      "Id 475 Ambati Rayudu having points 54\n",
      "Id 26 Ravindra Jadeja having points 75\n",
      "Id 206 Mitchell Santner having points 23\n",
      "Id 160 Karn Sharma having points 25\n",
      "Id 247 Lungi Ngidi having points 50\n",
      "Id 992 Nitish Rana having points 111\n",
      "Id 251 Dinesh Karthik having points 24\n",
      "Id 2 Pat Cummins having points 50\n",
      "Id 1028 Varun Chakravarthy having points 52\n",
      " \n",
      "Score for Dream Team is 594\n",
      "our score for team number 1 is 317\n",
      "our score for team number 2 is 344\n",
      "our score for team number 3 is 345\n",
      "our score for team number 4 is 345\n",
      "our score for team number 5 is 313\n",
      "our score for team number 6 is 373\n",
      "our score for team number 7 is 337\n",
      "our score for team number 8 is 366\n",
      "our score for team number 9 is 373\n",
      "our score for team number 10 is 345\n"
     ]
    },
    {
     "data": {
      "text/html": [
       "<style>.container { width:80% !important; }</style>"
      ],
      "text/plain": [
       "<IPython.core.display.HTML object>"
      ]
     },
     "metadata": {},
     "output_type": "display_data"
    },
    {
     "name": "stdout",
     "output_type": "stream",
     "text": [
      "Dream Team for match between Kings XI Punjab and Rajasthan Royals are \n",
      "Id 156 Chris Jordan having points 19\n",
      "Id 996 Murugan Ashwin having points 21\n",
      "Id 517 Robin Uthappa having points 37\n",
      "Id 151 Ben Stokes having points 131\n",
      "Id 32 Sanju Samson having points 61\n",
      "Id 20 KL Rahul having points 55\n",
      "Id 120 Chris Gayle having points 137\n",
      "Id 603 Nicholas Pooran having points 39\n",
      "Id 12 Steven Smith having points 36\n",
      "Id 154 Jos Buttler having points 29\n",
      "Id 604 Jofra Archer having points 50\n",
      " \n",
      "Score for Dream Team is 615\n",
      "our score for team number 1 is 513\n",
      "our score for team number 2 is 413\n",
      "our score for team number 3 is 511\n",
      "our score for team number 4 is 500\n",
      "our score for team number 5 is 556\n",
      "our score for team number 6 is 556\n",
      "our score for team number 7 is 500\n",
      "our score for team number 8 is 489\n",
      "our score for team number 9 is 556\n",
      "our score for team number 10 is 534\n",
      "59.64015099827389\n"
     ]
    }
   ],
   "source": [
    "#Cross validation for proper training data\n",
    "date1=1\n",
    "year1 = 2015\n",
    "month1 = 1\n",
    "month2 = 10\n",
    "year2 = 2020\n",
    "test_year = 2020\n",
    "test_month = 10\n",
    "start_time = 12\n",
    "results = []\n",
    "for date in range(25,31):\n",
    "    res1 = []\n",
    "    test_date = date\n",
    "    date2 = date-1\n",
    "    %run ./Fantasy_Team_Pred.ipynb\n",
    "    res1.append(max_score)\n",
    "    for ps in pred_scores:\n",
    "        res1.append(ps)\n",
    "    results.append(res1)\n",
    "sum_cv = 0\n",
    "n_cv = 0\n",
    "for i in results:\n",
    "    for j in range(1,len(i)):\n",
    "        sum_cv = sum_cv + i[j]/i[0]\n",
    "        n_cv = n_cv+1\n",
    "print(sum_cv*100/n_cv)"
   ]
  },
  {
   "cell_type": "code",
   "execution_count": 36,
   "metadata": {},
   "outputs": [
    {
     "data": {
      "text/html": [
       "<style>.container { width:80% !important; }</style>"
      ],
      "text/plain": [
       "<IPython.core.display.HTML object>"
      ]
     },
     "metadata": {},
     "output_type": "display_data"
    },
    {
     "name": "stdout",
     "output_type": "stream",
     "text": [
      "Dream Team for match between Mumbai Indians and Rajasthan Royals are \n",
      "Id 151 Ben Stokes having points 162\n",
      "Id 32 Sanju Samson having points 75\n",
      "Id 604 Jofra Archer having points 58\n",
      "Id 1001 Shreyas Gopal having points 50\n",
      "Id 1067 Kartik Tyagi having points 19\n",
      "Id 988 Ishan Kishan having points 44\n",
      "Id 987 Suryakumar Yadav having points 47\n",
      "Id 387 Saurabh Tiwary having points 41\n",
      "Id 423 Kieron Pollard having points 17\n",
      "Id 30 Hardik Pandya having points 91\n",
      "Id 75 James Pattinson having points 44\n",
      " \n",
      "Score for Dream Team is 648\n",
      "our score for team number 1 is 403\n",
      "our score for team number 2 is 288\n",
      "our score for team number 3 is 392\n",
      "our score for team number 4 is 288\n",
      "our score for team number 5 is 288\n",
      "our score for team number 6 is 406\n",
      "our score for team number 7 is 392\n",
      "our score for team number 8 is 392\n",
      "our score for team number 9 is 450\n",
      "our score for team number 10 is 403\n"
     ]
    },
    {
     "data": {
      "text/html": [
       "<style>.container { width:80% !important; }</style>"
      ],
      "text/plain": [
       "<IPython.core.display.HTML object>"
      ]
     },
     "metadata": {},
     "output_type": "display_data"
    },
    {
     "name": "stdout",
     "output_type": "stream",
     "text": [
      "Dream Team for match between Kolkata Knight Riders and Kings XI Punjab are \n",
      "Id 33 Shubman Gill having points 80\n",
      "Id 439 Eoin Morgan having points 51\n",
      "Id 592 Lockie Ferguson having points 55\n",
      "Id 1028 Varun Chakravarthy having points 27\n",
      "Id 20 KL Rahul having points 32\n",
      "Id 985 Mandeep Singh having points 88\n",
      "Id 120 Chris Gayle having points 84\n",
      "Id 603 Nicholas Pooran having points 10\n",
      "Id 156 Chris Jordan having points 50\n",
      "Id 1070 Ravi Bishnoi having points 52\n",
      "Id 28 Mohammed Shami having points 75\n",
      " \n",
      "Score for Dream Team is 604\n",
      "our score for team number 1 is 265\n",
      "our score for team number 2 is 260\n",
      "our score for team number 3 is 212\n",
      "our score for team number 4 is 292\n",
      "our score for team number 5 is 294\n",
      "our score for team number 6 is 292\n",
      "our score for team number 7 is 237\n",
      "our score for team number 8 is 237\n",
      "our score for team number 9 is 292\n",
      "our score for team number 10 is 291\n"
     ]
    },
    {
     "data": {
      "text/html": [
       "<style>.container { width:80% !important; }</style>"
      ],
      "text/plain": [
       "<IPython.core.display.HTML object>"
      ]
     },
     "metadata": {},
     "output_type": "display_data"
    },
    {
     "name": "stdout",
     "output_type": "stream",
     "text": [
      "Dream Team for match between Delhi Capitals and Sunrisers Hyderabad are \n",
      "Id 17 David Warner having points 98\n",
      "Id 82 Wriddhiman Saha having points 113\n",
      "Id 29 Manish Pandey having points 51\n",
      "Id 591 Vijay Shankar having points 25\n",
      "Id 599 Rashid Khan having points 81\n",
      "Id 1007 Sandeep Sharma having points 50\n",
      "Id 1044 T Natarajan having points 50\n",
      "Id 274 Shahbaz Nadeem having points 25\n",
      "Id 117 Ajinkya Rahane having points 32\n",
      "Id 253 Rishabh Pant having points 42\n",
      "Id 64 Ravichandran Ashwin having points 27\n",
      " \n",
      "Score for Dream Team is 594\n",
      "our score for team number 1 is 317\n",
      "our score for team number 2 is 309\n",
      "our score for team number 3 is 247\n",
      "our score for team number 4 is 228\n",
      "our score for team number 5 is 298\n",
      "our score for team number 6 is 290\n",
      "our score for team number 7 is 309\n",
      "our score for team number 8 is 303\n",
      "our score for team number 9 is 286\n",
      "our score for team number 10 is 286\n"
     ]
    },
    {
     "data": {
      "text/html": [
       "<style>.container { width:80% !important; }</style>"
      ],
      "text/plain": [
       "<IPython.core.display.HTML object>"
      ]
     },
     "metadata": {},
     "output_type": "display_data"
    },
    {
     "name": "stdout",
     "output_type": "stream",
     "text": [
      "Dream Team for match between Mumbai Indians and Royal Challengers Bangalore are \n",
      "Id 987 Suryakumar Yadav having points 106\n",
      "Id 988 Ishan Kishan having points 31\n",
      "Id 423 Kieron Pollard having points 32\n",
      "Id 93 Trent Boult having points 31\n",
      "Id 22 Jasprit Bumrah having points 81\n",
      "Id 1063 Devdutt Padikkal having points 105\n",
      "Id 547 Chris Morris having points 46\n",
      "Id 553 Gurkeerat Singh Mann having points 24\n",
      "Id 23 Yuzvendra Chahal having points 48\n",
      "Id 589 Mohammed Siraj having points 58\n",
      "Id 1064 Josh Philippe having points 40\n",
      " \n",
      "Score for Dream Team is 602\n",
      "our score for team number 1 is 378\n",
      "our score for team number 2 is 332\n",
      "our score for team number 3 is 373\n",
      "our score for team number 4 is 361\n",
      "our score for team number 5 is 361\n",
      "our score for team number 6 is 367\n",
      "our score for team number 7 is 361\n",
      "our score for team number 8 is 332\n",
      "our score for team number 9 is 332\n",
      "our score for team number 10 is 334\n"
     ]
    },
    {
     "data": {
      "text/html": [
       "<style>.container { width:80% !important; }</style>"
      ],
      "text/plain": [
       "<IPython.core.display.HTML object>"
      ]
     },
     "metadata": {},
     "output_type": "display_data"
    },
    {
     "name": "stdout",
     "output_type": "stream",
     "text": [
      "Dream Team for match between Chennai Super Kings and Kolkata Knight Riders are \n",
      "Id 33 Shubman Gill having points 30\n",
      "Id 1068 Ruturaj Gaikwad having points 100\n",
      "Id 475 Ambati Rayudu having points 54\n",
      "Id 26 Ravindra Jadeja having points 75\n",
      "Id 206 Mitchell Santner having points 23\n",
      "Id 160 Karn Sharma having points 25\n",
      "Id 247 Lungi Ngidi having points 50\n",
      "Id 992 Nitish Rana having points 111\n",
      "Id 251 Dinesh Karthik having points 24\n",
      "Id 2 Pat Cummins having points 50\n",
      "Id 1028 Varun Chakravarthy having points 52\n",
      " \n",
      "Score for Dream Team is 594\n",
      "our score for team number 1 is 393\n",
      "our score for team number 2 is 393\n",
      "our score for team number 3 is 393\n",
      "our score for team number 4 is 393\n",
      "our score for team number 5 is 364\n",
      "our score for team number 6 is 364\n",
      "our score for team number 7 is 364\n",
      "our score for team number 8 is 386\n",
      "our score for team number 9 is 364\n",
      "our score for team number 10 is 335\n"
     ]
    },
    {
     "data": {
      "text/html": [
       "<style>.container { width:80% !important; }</style>"
      ],
      "text/plain": [
       "<IPython.core.display.HTML object>"
      ]
     },
     "metadata": {},
     "output_type": "display_data"
    },
    {
     "name": "stdout",
     "output_type": "stream",
     "text": [
      "Dream Team for match between Kings XI Punjab and Rajasthan Royals are \n",
      "Id 156 Chris Jordan having points 19\n",
      "Id 996 Murugan Ashwin having points 21\n",
      "Id 517 Robin Uthappa having points 37\n",
      "Id 151 Ben Stokes having points 131\n",
      "Id 32 Sanju Samson having points 61\n",
      "Id 20 KL Rahul having points 55\n",
      "Id 120 Chris Gayle having points 137\n",
      "Id 603 Nicholas Pooran having points 39\n",
      "Id 12 Steven Smith having points 36\n",
      "Id 154 Jos Buttler having points 29\n",
      "Id 604 Jofra Archer having points 50\n",
      " \n",
      "Score for Dream Team is 615\n",
      "our score for team number 1 is 495\n",
      "our score for team number 2 is 534\n",
      "our score for team number 3 is 489\n",
      "our score for team number 4 is 513\n",
      "our score for team number 5 is 413\n",
      "our score for team number 6 is 419\n",
      "our score for team number 7 is 413\n",
      "our score for team number 8 is 489\n",
      "our score for team number 9 is 500\n",
      "our score for team number 10 is 556\n",
      "58.31570844323508\n"
     ]
    }
   ],
   "source": [
    "#Cross validation for proper training data\n",
    "date1=1\n",
    "year1 = 2016\n",
    "month1 = 1\n",
    "month2 = 10\n",
    "year2 = 2020\n",
    "test_year = 2020\n",
    "test_month = 10\n",
    "start_time = 12\n",
    "results = []\n",
    "for date in range(25,31):\n",
    "    res1 = []\n",
    "    test_date = date\n",
    "    date2 = date-1\n",
    "    %run ./Fantasy_Team_Pred.ipynb\n",
    "    res1.append(max_score)\n",
    "    for ps in pred_scores:\n",
    "        res1.append(ps)\n",
    "    results.append(res1)\n",
    "sum_cv = 0\n",
    "n_cv = 0\n",
    "for i in results:\n",
    "    for j in range(1,len(i)):\n",
    "        sum_cv = sum_cv + i[j]/i[0]\n",
    "        n_cv = n_cv+1\n",
    "print(sum_cv*100/n_cv)"
   ]
  },
  {
   "cell_type": "code",
   "execution_count": 37,
   "metadata": {},
   "outputs": [
    {
     "data": {
      "text/html": [
       "<style>.container { width:80% !important; }</style>"
      ],
      "text/plain": [
       "<IPython.core.display.HTML object>"
      ]
     },
     "metadata": {},
     "output_type": "display_data"
    },
    {
     "name": "stdout",
     "output_type": "stream",
     "text": [
      "Dream Team for match between Mumbai Indians and Rajasthan Royals are \n",
      "Id 151 Ben Stokes having points 162\n",
      "Id 32 Sanju Samson having points 75\n",
      "Id 604 Jofra Archer having points 58\n",
      "Id 1001 Shreyas Gopal having points 50\n",
      "Id 1067 Kartik Tyagi having points 19\n",
      "Id 988 Ishan Kishan having points 44\n",
      "Id 987 Suryakumar Yadav having points 47\n",
      "Id 387 Saurabh Tiwary having points 41\n",
      "Id 423 Kieron Pollard having points 17\n",
      "Id 30 Hardik Pandya having points 91\n",
      "Id 75 James Pattinson having points 44\n",
      " \n",
      "Score for Dream Team is 648\n",
      "our score for team number 1 is 408\n",
      "our score for team number 2 is 408\n",
      "our score for team number 3 is 331\n",
      "our score for team number 4 is 397\n",
      "our score for team number 5 is 406\n",
      "our score for team number 6 is 406\n",
      "our score for team number 7 is 405\n",
      "our score for team number 8 is 406\n",
      "our score for team number 9 is 406\n",
      "our score for team number 10 is 406\n"
     ]
    },
    {
     "data": {
      "text/html": [
       "<style>.container { width:80% !important; }</style>"
      ],
      "text/plain": [
       "<IPython.core.display.HTML object>"
      ]
     },
     "metadata": {},
     "output_type": "display_data"
    },
    {
     "name": "stdout",
     "output_type": "stream",
     "text": [
      "Dream Team for match between Kolkata Knight Riders and Kings XI Punjab are \n",
      "Id 33 Shubman Gill having points 80\n",
      "Id 439 Eoin Morgan having points 51\n",
      "Id 592 Lockie Ferguson having points 55\n",
      "Id 1028 Varun Chakravarthy having points 27\n",
      "Id 20 KL Rahul having points 32\n",
      "Id 985 Mandeep Singh having points 88\n",
      "Id 120 Chris Gayle having points 84\n",
      "Id 603 Nicholas Pooran having points 10\n",
      "Id 156 Chris Jordan having points 50\n",
      "Id 1070 Ravi Bishnoi having points 52\n",
      "Id 28 Mohammed Shami having points 75\n",
      " \n",
      "Score for Dream Team is 604\n",
      "our score for team number 1 is 290\n",
      "our score for team number 2 is 239\n",
      "our score for team number 3 is 280\n",
      "our score for team number 4 is 280\n",
      "our score for team number 5 is 258\n",
      "our score for team number 6 is 239\n",
      "our score for team number 7 is 258\n",
      "our score for team number 8 is 235\n",
      "our score for team number 9 is 290\n",
      "our score for team number 10 is 283\n"
     ]
    },
    {
     "data": {
      "text/html": [
       "<style>.container { width:80% !important; }</style>"
      ],
      "text/plain": [
       "<IPython.core.display.HTML object>"
      ]
     },
     "metadata": {},
     "output_type": "display_data"
    },
    {
     "name": "stdout",
     "output_type": "stream",
     "text": [
      "Dream Team for match between Delhi Capitals and Sunrisers Hyderabad are \n",
      "Id 17 David Warner having points 98\n",
      "Id 82 Wriddhiman Saha having points 113\n",
      "Id 29 Manish Pandey having points 51\n",
      "Id 591 Vijay Shankar having points 25\n",
      "Id 599 Rashid Khan having points 81\n",
      "Id 1007 Sandeep Sharma having points 50\n",
      "Id 1044 T Natarajan having points 50\n",
      "Id 274 Shahbaz Nadeem having points 25\n",
      "Id 117 Ajinkya Rahane having points 32\n",
      "Id 253 Rishabh Pant having points 42\n",
      "Id 64 Ravichandran Ashwin having points 27\n",
      " \n",
      "Score for Dream Team is 594\n",
      "our score for team number 1 is 349\n",
      "our score for team number 2 is 336\n",
      "our score for team number 3 is 349\n",
      "our score for team number 4 is 318\n",
      "our score for team number 5 is 349\n",
      "our score for team number 6 is 362\n",
      "our score for team number 7 is 362\n",
      "our score for team number 8 is 363\n",
      "our score for team number 9 is 309\n",
      "our score for team number 10 is 309\n"
     ]
    },
    {
     "data": {
      "text/html": [
       "<style>.container { width:80% !important; }</style>"
      ],
      "text/plain": [
       "<IPython.core.display.HTML object>"
      ]
     },
     "metadata": {},
     "output_type": "display_data"
    },
    {
     "name": "stdout",
     "output_type": "stream",
     "text": [
      "Dream Team for match between Mumbai Indians and Royal Challengers Bangalore are \n",
      "Id 987 Suryakumar Yadav having points 106\n",
      "Id 988 Ishan Kishan having points 31\n",
      "Id 423 Kieron Pollard having points 32\n",
      "Id 93 Trent Boult having points 31\n",
      "Id 22 Jasprit Bumrah having points 81\n",
      "Id 1063 Devdutt Padikkal having points 105\n",
      "Id 547 Chris Morris having points 46\n",
      "Id 553 Gurkeerat Singh Mann having points 24\n",
      "Id 23 Yuzvendra Chahal having points 48\n",
      "Id 589 Mohammed Siraj having points 58\n",
      "Id 1064 Josh Philippe having points 40\n",
      " \n",
      "Score for Dream Team is 602\n",
      "our score for team number 1 is 411\n",
      "our score for team number 2 is 308\n",
      "our score for team number 3 is 411\n",
      "our score for team number 4 is 394\n",
      "our score for team number 5 is 308\n",
      "our score for team number 6 is 402\n",
      "our score for team number 7 is 394\n",
      "our score for team number 8 is 308\n",
      "our score for team number 9 is 406\n",
      "our score for team number 10 is 411\n"
     ]
    },
    {
     "data": {
      "text/html": [
       "<style>.container { width:80% !important; }</style>"
      ],
      "text/plain": [
       "<IPython.core.display.HTML object>"
      ]
     },
     "metadata": {},
     "output_type": "display_data"
    },
    {
     "name": "stdout",
     "output_type": "stream",
     "text": [
      "Dream Team for match between Chennai Super Kings and Kolkata Knight Riders are \n",
      "Id 33 Shubman Gill having points 30\n",
      "Id 1068 Ruturaj Gaikwad having points 100\n",
      "Id 475 Ambati Rayudu having points 54\n",
      "Id 26 Ravindra Jadeja having points 75\n",
      "Id 206 Mitchell Santner having points 23\n",
      "Id 160 Karn Sharma having points 25\n",
      "Id 247 Lungi Ngidi having points 50\n",
      "Id 992 Nitish Rana having points 111\n",
      "Id 251 Dinesh Karthik having points 24\n",
      "Id 2 Pat Cummins having points 50\n",
      "Id 1028 Varun Chakravarthy having points 52\n",
      " \n",
      "Score for Dream Team is 594\n",
      "our score for team number 1 is 333\n",
      "our score for team number 2 is 371\n",
      "our score for team number 3 is 333\n",
      "our score for team number 4 is 389\n",
      "our score for team number 5 is 333\n",
      "our score for team number 6 is 365\n",
      "our score for team number 7 is 359\n",
      "our score for team number 8 is 365\n",
      "our score for team number 9 is 359\n",
      "our score for team number 10 is 333\n"
     ]
    },
    {
     "data": {
      "text/html": [
       "<style>.container { width:80% !important; }</style>"
      ],
      "text/plain": [
       "<IPython.core.display.HTML object>"
      ]
     },
     "metadata": {},
     "output_type": "display_data"
    },
    {
     "name": "stdout",
     "output_type": "stream",
     "text": [
      "Dream Team for match between Kings XI Punjab and Rajasthan Royals are \n",
      "Id 156 Chris Jordan having points 19\n",
      "Id 996 Murugan Ashwin having points 21\n",
      "Id 517 Robin Uthappa having points 37\n",
      "Id 151 Ben Stokes having points 131\n",
      "Id 32 Sanju Samson having points 61\n",
      "Id 20 KL Rahul having points 55\n",
      "Id 120 Chris Gayle having points 137\n",
      "Id 603 Nicholas Pooran having points 39\n",
      "Id 12 Steven Smith having points 36\n",
      "Id 154 Jos Buttler having points 29\n",
      "Id 604 Jofra Archer having points 50\n",
      " \n",
      "Score for Dream Team is 615\n",
      "our score for team number 1 is 436\n",
      "our score for team number 2 is 537\n",
      "our score for team number 3 is 518\n",
      "our score for team number 4 is 512\n",
      "our score for team number 5 is 537\n",
      "our score for team number 6 is 544\n",
      "our score for team number 7 is 436\n",
      "our score for team number 8 is 557\n",
      "our score for team number 9 is 537\n",
      "our score for team number 10 is 512\n",
      "61.323236479809694\n"
     ]
    }
   ],
   "source": [
    "#Cross validation for proper training data\n",
    "date1=1\n",
    "year1 = 2017\n",
    "month1 = 1\n",
    "month2 = 10\n",
    "year2 = 2020\n",
    "test_year = 2020\n",
    "test_month = 10\n",
    "start_time = 12\n",
    "results = []\n",
    "for date in range(25,31):\n",
    "    res1 = []\n",
    "    test_date = date\n",
    "    date2 = date-1\n",
    "    %run ./Fantasy_Team_Pred.ipynb\n",
    "    res1.append(max_score)\n",
    "    for ps in pred_scores:\n",
    "        res1.append(ps)\n",
    "    results.append(res1)\n",
    "sum_cv = 0\n",
    "n_cv = 0\n",
    "for i in results:\n",
    "    for j in range(1,len(i)):\n",
    "        sum_cv = sum_cv + i[j]/i[0]\n",
    "        n_cv = n_cv+1\n",
    "print(sum_cv*100/n_cv)"
   ]
  },
  {
   "cell_type": "code",
   "execution_count": 38,
   "metadata": {},
   "outputs": [
    {
     "data": {
      "text/html": [
       "<style>.container { width:80% !important; }</style>"
      ],
      "text/plain": [
       "<IPython.core.display.HTML object>"
      ]
     },
     "metadata": {},
     "output_type": "display_data"
    },
    {
     "name": "stdout",
     "output_type": "stream",
     "text": [
      "Dream Team for match between Mumbai Indians and Rajasthan Royals are \n",
      "Id 151 Ben Stokes having points 162\n",
      "Id 32 Sanju Samson having points 75\n",
      "Id 604 Jofra Archer having points 58\n",
      "Id 1001 Shreyas Gopal having points 50\n",
      "Id 1067 Kartik Tyagi having points 19\n",
      "Id 988 Ishan Kishan having points 44\n",
      "Id 987 Suryakumar Yadav having points 47\n",
      "Id 387 Saurabh Tiwary having points 41\n",
      "Id 423 Kieron Pollard having points 17\n",
      "Id 30 Hardik Pandya having points 91\n",
      "Id 75 James Pattinson having points 44\n",
      " \n",
      "Score for Dream Team is 648\n",
      "our score for team number 1 is 303\n",
      "our score for team number 2 is 378\n",
      "our score for team number 3 is 380\n",
      "our score for team number 4 is 337\n",
      "our score for team number 5 is 378\n",
      "our score for team number 6 is 287\n",
      "our score for team number 7 is 378\n",
      "our score for team number 8 is 369\n",
      "our score for team number 9 is 334\n",
      "our score for team number 10 is 369\n"
     ]
    },
    {
     "data": {
      "text/html": [
       "<style>.container { width:80% !important; }</style>"
      ],
      "text/plain": [
       "<IPython.core.display.HTML object>"
      ]
     },
     "metadata": {},
     "output_type": "display_data"
    },
    {
     "name": "stdout",
     "output_type": "stream",
     "text": [
      "Dream Team for match between Kolkata Knight Riders and Kings XI Punjab are \n",
      "Id 33 Shubman Gill having points 80\n",
      "Id 439 Eoin Morgan having points 51\n",
      "Id 592 Lockie Ferguson having points 55\n",
      "Id 1028 Varun Chakravarthy having points 27\n",
      "Id 20 KL Rahul having points 32\n",
      "Id 985 Mandeep Singh having points 88\n",
      "Id 120 Chris Gayle having points 84\n",
      "Id 603 Nicholas Pooran having points 10\n",
      "Id 156 Chris Jordan having points 50\n",
      "Id 1070 Ravi Bishnoi having points 52\n",
      "Id 28 Mohammed Shami having points 75\n",
      " \n",
      "Score for Dream Team is 604\n",
      "our score for team number 1 is 309\n",
      "our score for team number 2 is 313\n",
      "our score for team number 3 is 354\n",
      "our score for team number 4 is 313\n",
      "our score for team number 5 is 357\n",
      "our score for team number 6 is 280\n",
      "our score for team number 7 is 280\n",
      "our score for team number 8 is 366\n",
      "our score for team number 9 is 309\n",
      "our score for team number 10 is 332\n"
     ]
    },
    {
     "data": {
      "text/html": [
       "<style>.container { width:80% !important; }</style>"
      ],
      "text/plain": [
       "<IPython.core.display.HTML object>"
      ]
     },
     "metadata": {},
     "output_type": "display_data"
    },
    {
     "name": "stdout",
     "output_type": "stream",
     "text": [
      "Dream Team for match between Delhi Capitals and Sunrisers Hyderabad are \n",
      "Id 17 David Warner having points 98\n",
      "Id 82 Wriddhiman Saha having points 113\n",
      "Id 29 Manish Pandey having points 51\n",
      "Id 591 Vijay Shankar having points 25\n",
      "Id 599 Rashid Khan having points 81\n",
      "Id 1007 Sandeep Sharma having points 50\n",
      "Id 1044 T Natarajan having points 50\n",
      "Id 274 Shahbaz Nadeem having points 25\n",
      "Id 117 Ajinkya Rahane having points 32\n",
      "Id 253 Rishabh Pant having points 42\n",
      "Id 64 Ravichandran Ashwin having points 27\n",
      " \n",
      "Score for Dream Team is 594\n",
      "our score for team number 1 is 349\n",
      "our score for team number 2 is 327\n",
      "our score for team number 3 is 295\n",
      "our score for team number 4 is 340\n",
      "our score for team number 5 is 349\n",
      "our score for team number 6 is 340\n",
      "our score for team number 7 is 349\n",
      "our score for team number 8 is 335\n",
      "our score for team number 9 is 265\n",
      "our score for team number 10 is 348\n"
     ]
    },
    {
     "data": {
      "text/html": [
       "<style>.container { width:80% !important; }</style>"
      ],
      "text/plain": [
       "<IPython.core.display.HTML object>"
      ]
     },
     "metadata": {},
     "output_type": "display_data"
    },
    {
     "name": "stdout",
     "output_type": "stream",
     "text": [
      "Dream Team for match between Mumbai Indians and Royal Challengers Bangalore are \n",
      "Id 987 Suryakumar Yadav having points 106\n",
      "Id 988 Ishan Kishan having points 31\n",
      "Id 423 Kieron Pollard having points 32\n",
      "Id 93 Trent Boult having points 31\n",
      "Id 22 Jasprit Bumrah having points 81\n",
      "Id 1063 Devdutt Padikkal having points 105\n",
      "Id 547 Chris Morris having points 46\n",
      "Id 553 Gurkeerat Singh Mann having points 24\n",
      "Id 23 Yuzvendra Chahal having points 48\n",
      "Id 589 Mohammed Siraj having points 58\n",
      "Id 1064 Josh Philippe having points 40\n",
      " \n",
      "Score for Dream Team is 602\n",
      "our score for team number 1 is 423\n",
      "our score for team number 2 is 319\n",
      "our score for team number 3 is 404\n",
      "our score for team number 4 is 418\n",
      "our score for team number 5 is 320\n",
      "our score for team number 6 is 344\n",
      "our score for team number 7 is 418\n",
      "our score for team number 8 is 402\n",
      "our score for team number 9 is 320\n",
      "our score for team number 10 is 412\n"
     ]
    },
    {
     "data": {
      "text/html": [
       "<style>.container { width:80% !important; }</style>"
      ],
      "text/plain": [
       "<IPython.core.display.HTML object>"
      ]
     },
     "metadata": {},
     "output_type": "display_data"
    },
    {
     "name": "stdout",
     "output_type": "stream",
     "text": [
      "Dream Team for match between Chennai Super Kings and Kolkata Knight Riders are \n",
      "Id 33 Shubman Gill having points 30\n",
      "Id 1068 Ruturaj Gaikwad having points 100\n",
      "Id 475 Ambati Rayudu having points 54\n",
      "Id 26 Ravindra Jadeja having points 75\n",
      "Id 206 Mitchell Santner having points 23\n",
      "Id 160 Karn Sharma having points 25\n",
      "Id 247 Lungi Ngidi having points 50\n",
      "Id 992 Nitish Rana having points 111\n",
      "Id 251 Dinesh Karthik having points 24\n",
      "Id 2 Pat Cummins having points 50\n",
      "Id 1028 Varun Chakravarthy having points 52\n",
      " \n",
      "Score for Dream Team is 594\n",
      "our score for team number 1 is 336\n",
      "our score for team number 2 is 302\n",
      "our score for team number 3 is 331\n",
      "our score for team number 4 is 331\n",
      "our score for team number 5 is 300\n",
      "our score for team number 6 is 300\n",
      "our score for team number 7 is 243\n",
      "our score for team number 8 is 353\n",
      "our score for team number 9 is 342\n",
      "our score for team number 10 is 300\n"
     ]
    },
    {
     "data": {
      "text/html": [
       "<style>.container { width:80% !important; }</style>"
      ],
      "text/plain": [
       "<IPython.core.display.HTML object>"
      ]
     },
     "metadata": {},
     "output_type": "display_data"
    },
    {
     "name": "stdout",
     "output_type": "stream",
     "text": [
      "Dream Team for match between Kings XI Punjab and Rajasthan Royals are \n",
      "Id 156 Chris Jordan having points 19\n",
      "Id 996 Murugan Ashwin having points 21\n",
      "Id 517 Robin Uthappa having points 37\n",
      "Id 151 Ben Stokes having points 131\n",
      "Id 32 Sanju Samson having points 61\n",
      "Id 20 KL Rahul having points 55\n",
      "Id 120 Chris Gayle having points 137\n",
      "Id 603 Nicholas Pooran having points 39\n",
      "Id 12 Steven Smith having points 36\n",
      "Id 154 Jos Buttler having points 29\n",
      "Id 604 Jofra Archer having points 50\n",
      " \n",
      "Score for Dream Team is 615\n",
      "our score for team number 1 is 540\n",
      "our score for team number 2 is 508\n",
      "our score for team number 3 is 533\n",
      "our score for team number 4 is 508\n",
      "our score for team number 5 is 575\n",
      "our score for team number 6 is 508\n",
      "our score for team number 7 is 575\n",
      "our score for team number 8 is 519\n",
      "our score for team number 9 is 548\n",
      "our score for team number 10 is 519\n",
      "60.87463422726618\n"
     ]
    }
   ],
   "source": [
    "#Cross validation for proper training data\n",
    "date1=1\n",
    "year1 = 2018\n",
    "month1 = 1\n",
    "month2 = 10\n",
    "year2 = 2020\n",
    "test_year = 2020\n",
    "test_month = 10\n",
    "start_time = 12\n",
    "results = []\n",
    "for date in range(25,31):\n",
    "    res1 = []\n",
    "    test_date = date\n",
    "    date2 = date-1\n",
    "    %run ./Fantasy_Team_Pred.ipynb\n",
    "    res1.append(max_score)\n",
    "    for ps in pred_scores:\n",
    "        res1.append(ps)\n",
    "    results.append(res1)\n",
    "sum_cv = 0\n",
    "n_cv = 0\n",
    "for i in results:\n",
    "    for j in range(1,len(i)):\n",
    "        sum_cv = sum_cv + i[j]/i[0]\n",
    "        n_cv = n_cv+1\n",
    "print(sum_cv*100/n_cv)"
   ]
  },
  {
   "cell_type": "code",
   "execution_count": 39,
   "metadata": {},
   "outputs": [
    {
     "data": {
      "text/html": [
       "<style>.container { width:80% !important; }</style>"
      ],
      "text/plain": [
       "<IPython.core.display.HTML object>"
      ]
     },
     "metadata": {},
     "output_type": "display_data"
    },
    {
     "name": "stdout",
     "output_type": "stream",
     "text": [
      "Dream Team for match between Mumbai Indians and Rajasthan Royals are \n",
      "Id 151 Ben Stokes having points 162\n",
      "Id 32 Sanju Samson having points 75\n",
      "Id 604 Jofra Archer having points 58\n",
      "Id 1001 Shreyas Gopal having points 50\n",
      "Id 1067 Kartik Tyagi having points 19\n",
      "Id 988 Ishan Kishan having points 44\n",
      "Id 987 Suryakumar Yadav having points 47\n",
      "Id 387 Saurabh Tiwary having points 41\n",
      "Id 423 Kieron Pollard having points 17\n",
      "Id 30 Hardik Pandya having points 91\n",
      "Id 75 James Pattinson having points 44\n",
      " \n",
      "Score for Dream Team is 648\n",
      "our score for team number 1 is 303\n",
      "our score for team number 2 is 292\n",
      "our score for team number 3 is 303\n",
      "our score for team number 4 is 210\n",
      "our score for team number 5 is 301\n",
      "our score for team number 6 is 254\n",
      "our score for team number 7 is 243\n",
      "our score for team number 8 is 303\n",
      "our score for team number 9 is 303\n",
      "our score for team number 10 is 210\n"
     ]
    },
    {
     "data": {
      "text/html": [
       "<style>.container { width:80% !important; }</style>"
      ],
      "text/plain": [
       "<IPython.core.display.HTML object>"
      ]
     },
     "metadata": {},
     "output_type": "display_data"
    },
    {
     "name": "stdout",
     "output_type": "stream",
     "text": [
      "Dream Team for match between Kolkata Knight Riders and Kings XI Punjab are \n",
      "Id 33 Shubman Gill having points 80\n",
      "Id 439 Eoin Morgan having points 51\n",
      "Id 592 Lockie Ferguson having points 55\n",
      "Id 1028 Varun Chakravarthy having points 27\n",
      "Id 20 KL Rahul having points 32\n",
      "Id 985 Mandeep Singh having points 88\n",
      "Id 120 Chris Gayle having points 84\n",
      "Id 603 Nicholas Pooran having points 10\n",
      "Id 156 Chris Jordan having points 50\n",
      "Id 1070 Ravi Bishnoi having points 52\n",
      "Id 28 Mohammed Shami having points 75\n",
      " \n",
      "Score for Dream Team is 604\n",
      "our score for team number 1 is 372\n",
      "our score for team number 2 is 368\n",
      "our score for team number 3 is 339\n",
      "our score for team number 4 is 343\n",
      "our score for team number 5 is 391\n",
      "our score for team number 6 is 343\n",
      "our score for team number 7 is 343\n",
      "our score for team number 8 is 343\n",
      "our score for team number 9 is 413\n",
      "our score for team number 10 is 417\n"
     ]
    },
    {
     "data": {
      "text/html": [
       "<style>.container { width:80% !important; }</style>"
      ],
      "text/plain": [
       "<IPython.core.display.HTML object>"
      ]
     },
     "metadata": {},
     "output_type": "display_data"
    },
    {
     "name": "stdout",
     "output_type": "stream",
     "text": [
      "Dream Team for match between Delhi Capitals and Sunrisers Hyderabad are \n",
      "Id 17 David Warner having points 98\n",
      "Id 82 Wriddhiman Saha having points 113\n",
      "Id 29 Manish Pandey having points 51\n",
      "Id 591 Vijay Shankar having points 25\n",
      "Id 599 Rashid Khan having points 81\n",
      "Id 1007 Sandeep Sharma having points 50\n",
      "Id 1044 T Natarajan having points 50\n",
      "Id 274 Shahbaz Nadeem having points 25\n",
      "Id 117 Ajinkya Rahane having points 32\n",
      "Id 253 Rishabh Pant having points 42\n",
      "Id 64 Ravichandran Ashwin having points 27\n",
      " \n",
      "Score for Dream Team is 594\n",
      "our score for team number 1 is 248\n",
      "our score for team number 2 is 349\n",
      "our score for team number 3 is 349\n",
      "our score for team number 4 is 348\n",
      "our score for team number 5 is 335\n",
      "our score for team number 6 is 327\n",
      "our score for team number 7 is 265\n",
      "our score for team number 8 is 304\n",
      "our score for team number 9 is 248\n",
      "our score for team number 10 is 348\n"
     ]
    },
    {
     "data": {
      "text/html": [
       "<style>.container { width:80% !important; }</style>"
      ],
      "text/plain": [
       "<IPython.core.display.HTML object>"
      ]
     },
     "metadata": {},
     "output_type": "display_data"
    },
    {
     "name": "stdout",
     "output_type": "stream",
     "text": [
      "Dream Team for match between Mumbai Indians and Royal Challengers Bangalore are \n",
      "Id 987 Suryakumar Yadav having points 106\n",
      "Id 988 Ishan Kishan having points 31\n",
      "Id 423 Kieron Pollard having points 32\n",
      "Id 93 Trent Boult having points 31\n",
      "Id 22 Jasprit Bumrah having points 81\n",
      "Id 1063 Devdutt Padikkal having points 105\n",
      "Id 547 Chris Morris having points 46\n",
      "Id 553 Gurkeerat Singh Mann having points 24\n",
      "Id 23 Yuzvendra Chahal having points 48\n",
      "Id 589 Mohammed Siraj having points 58\n",
      "Id 1064 Josh Philippe having points 40\n",
      " \n",
      "Score for Dream Team is 602\n",
      "our score for team number 1 is 348\n",
      "our score for team number 2 is 315\n",
      "our score for team number 3 is 383\n",
      "our score for team number 4 is 350\n",
      "our score for team number 5 is 373\n",
      "our score for team number 6 is 375\n",
      "our score for team number 7 is 394\n",
      "our score for team number 8 is 315\n",
      "our score for team number 9 is 373\n",
      "our score for team number 10 is 383\n"
     ]
    },
    {
     "data": {
      "text/html": [
       "<style>.container { width:80% !important; }</style>"
      ],
      "text/plain": [
       "<IPython.core.display.HTML object>"
      ]
     },
     "metadata": {},
     "output_type": "display_data"
    },
    {
     "name": "stdout",
     "output_type": "stream",
     "text": [
      "Dream Team for match between Chennai Super Kings and Kolkata Knight Riders are \n",
      "Id 33 Shubman Gill having points 30\n",
      "Id 1068 Ruturaj Gaikwad having points 100\n",
      "Id 475 Ambati Rayudu having points 54\n",
      "Id 26 Ravindra Jadeja having points 75\n",
      "Id 206 Mitchell Santner having points 23\n",
      "Id 160 Karn Sharma having points 25\n",
      "Id 247 Lungi Ngidi having points 50\n",
      "Id 992 Nitish Rana having points 111\n",
      "Id 251 Dinesh Karthik having points 24\n",
      "Id 2 Pat Cummins having points 50\n",
      "Id 1028 Varun Chakravarthy having points 52\n",
      " \n",
      "Score for Dream Team is 594\n",
      "our score for team number 1 is 331\n",
      "our score for team number 2 is 352\n",
      "our score for team number 3 is 323\n",
      "our score for team number 4 is 331\n",
      "our score for team number 5 is 330\n",
      "our score for team number 6 is 336\n",
      "our score for team number 7 is 242\n",
      "our score for team number 8 is 359\n",
      "our score for team number 9 is 336\n",
      "our score for team number 10 is 323\n"
     ]
    },
    {
     "data": {
      "text/html": [
       "<style>.container { width:80% !important; }</style>"
      ],
      "text/plain": [
       "<IPython.core.display.HTML object>"
      ]
     },
     "metadata": {},
     "output_type": "display_data"
    },
    {
     "name": "stdout",
     "output_type": "stream",
     "text": [
      "Dream Team for match between Kings XI Punjab and Rajasthan Royals are \n",
      "Id 156 Chris Jordan having points 19\n",
      "Id 996 Murugan Ashwin having points 21\n",
      "Id 517 Robin Uthappa having points 37\n",
      "Id 151 Ben Stokes having points 131\n",
      "Id 32 Sanju Samson having points 61\n",
      "Id 20 KL Rahul having points 55\n",
      "Id 120 Chris Gayle having points 137\n",
      "Id 603 Nicholas Pooran having points 39\n",
      "Id 12 Steven Smith having points 36\n",
      "Id 154 Jos Buttler having points 29\n",
      "Id 604 Jofra Archer having points 50\n",
      " \n",
      "Score for Dream Team is 615\n",
      "our score for team number 1 is 514\n",
      "our score for team number 2 is 432\n",
      "our score for team number 3 is 432\n",
      "our score for team number 4 is 438\n",
      "our score for team number 5 is 519\n",
      "our score for team number 6 is 575\n",
      "our score for team number 7 is 533\n",
      "our score for team number 8 is 530\n",
      "our score for team number 9 is 540\n",
      "our score for team number 10 is 519\n",
      "58.67448777089127\n"
     ]
    }
   ],
   "source": [
    "#Cross validation for proper training data\n",
    "date1=1\n",
    "year1 = 2019\n",
    "month1 = 1\n",
    "month2 = 10\n",
    "year2 = 2020\n",
    "test_year = 2020\n",
    "test_month = 10\n",
    "start_time = 12\n",
    "results = []\n",
    "for date in range(25,31):\n",
    "    res1 = []\n",
    "    test_date = date\n",
    "    date2 = date-1\n",
    "    %run ./Fantasy_Team_Pred.ipynb\n",
    "    res1.append(max_score)\n",
    "    for ps in pred_scores:\n",
    "        res1.append(ps)\n",
    "    results.append(res1)\n",
    "sum_cv = 0\n",
    "n_cv = 0\n",
    "for i in results:\n",
    "    for j in range(1,len(i)):\n",
    "        sum_cv = sum_cv + i[j]/i[0]\n",
    "        n_cv = n_cv+1\n",
    "print(sum_cv*100/n_cv)"
   ]
  },
  {
   "cell_type": "code",
   "execution_count": 40,
   "metadata": {},
   "outputs": [
    {
     "data": {
      "text/html": [
       "<style>.container { width:80% !important; }</style>"
      ],
      "text/plain": [
       "<IPython.core.display.HTML object>"
      ]
     },
     "metadata": {},
     "output_type": "display_data"
    },
    {
     "name": "stdout",
     "output_type": "stream",
     "text": [
      "Dream Team for match between Mumbai Indians and Rajasthan Royals are \n",
      "Id 151 Ben Stokes having points 162\n",
      "Id 32 Sanju Samson having points 75\n",
      "Id 604 Jofra Archer having points 58\n",
      "Id 1001 Shreyas Gopal having points 50\n",
      "Id 1067 Kartik Tyagi having points 19\n",
      "Id 988 Ishan Kishan having points 44\n",
      "Id 987 Suryakumar Yadav having points 47\n",
      "Id 387 Saurabh Tiwary having points 41\n",
      "Id 423 Kieron Pollard having points 17\n",
      "Id 30 Hardik Pandya having points 91\n",
      "Id 75 James Pattinson having points 44\n",
      " \n",
      "Score for Dream Team is 648\n",
      "our score for team number 1 is 228\n",
      "our score for team number 2 is 228\n",
      "our score for team number 3 is 231\n",
      "our score for team number 4 is 272\n",
      "our score for team number 5 is 274\n",
      "our score for team number 6 is 197\n",
      "our score for team number 7 is 231\n",
      "our score for team number 8 is 272\n",
      "our score for team number 9 is 274\n",
      "our score for team number 10 is 272\n"
     ]
    },
    {
     "data": {
      "text/html": [
       "<style>.container { width:80% !important; }</style>"
      ],
      "text/plain": [
       "<IPython.core.display.HTML object>"
      ]
     },
     "metadata": {},
     "output_type": "display_data"
    },
    {
     "name": "stdout",
     "output_type": "stream",
     "text": [
      "Dream Team for match between Kolkata Knight Riders and Kings XI Punjab are \n",
      "Id 33 Shubman Gill having points 80\n",
      "Id 439 Eoin Morgan having points 51\n",
      "Id 592 Lockie Ferguson having points 55\n",
      "Id 1028 Varun Chakravarthy having points 27\n",
      "Id 20 KL Rahul having points 32\n",
      "Id 985 Mandeep Singh having points 88\n",
      "Id 120 Chris Gayle having points 84\n",
      "Id 603 Nicholas Pooran having points 10\n",
      "Id 156 Chris Jordan having points 50\n",
      "Id 1070 Ravi Bishnoi having points 52\n",
      "Id 28 Mohammed Shami having points 75\n",
      " \n",
      "Score for Dream Team is 604\n",
      "our score for team number 1 is 419\n",
      "our score for team number 2 is 415\n",
      "our score for team number 3 is 419\n",
      "our score for team number 4 is 374\n",
      "our score for team number 5 is 418\n",
      "our score for team number 6 is 341\n",
      "our score for team number 7 is 400\n",
      "our score for team number 8 is 341\n",
      "our score for team number 9 is 415\n",
      "our score for team number 10 is 370\n"
     ]
    },
    {
     "data": {
      "text/html": [
       "<style>.container { width:80% !important; }</style>"
      ],
      "text/plain": [
       "<IPython.core.display.HTML object>"
      ]
     },
     "metadata": {},
     "output_type": "display_data"
    },
    {
     "name": "stdout",
     "output_type": "stream",
     "text": [
      "Dream Team for match between Delhi Capitals and Sunrisers Hyderabad are \n",
      "Id 17 David Warner having points 98\n",
      "Id 82 Wriddhiman Saha having points 113\n",
      "Id 29 Manish Pandey having points 51\n",
      "Id 591 Vijay Shankar having points 25\n",
      "Id 599 Rashid Khan having points 81\n",
      "Id 1007 Sandeep Sharma having points 50\n",
      "Id 1044 T Natarajan having points 50\n",
      "Id 274 Shahbaz Nadeem having points 25\n",
      "Id 117 Ajinkya Rahane having points 32\n",
      "Id 253 Rishabh Pant having points 42\n",
      "Id 64 Ravichandran Ashwin having points 27\n",
      " \n",
      "Score for Dream Team is 594\n",
      "our score for team number 1 is 304\n",
      "our score for team number 2 is 366\n",
      "our score for team number 3 is 419\n",
      "our score for team number 4 is 393\n",
      "our score for team number 5 is 398\n",
      "our score for team number 6 is 398\n",
      "our score for team number 7 is 393\n",
      "our score for team number 8 is 336\n",
      "our score for team number 9 is 419\n",
      "our score for team number 10 is 366\n"
     ]
    },
    {
     "data": {
      "text/html": [
       "<style>.container { width:80% !important; }</style>"
      ],
      "text/plain": [
       "<IPython.core.display.HTML object>"
      ]
     },
     "metadata": {},
     "output_type": "display_data"
    },
    {
     "name": "stdout",
     "output_type": "stream",
     "text": [
      "Dream Team for match between Mumbai Indians and Royal Challengers Bangalore are \n",
      "Id 987 Suryakumar Yadav having points 106\n",
      "Id 988 Ishan Kishan having points 31\n",
      "Id 423 Kieron Pollard having points 32\n",
      "Id 93 Trent Boult having points 31\n",
      "Id 22 Jasprit Bumrah having points 81\n",
      "Id 1063 Devdutt Padikkal having points 105\n",
      "Id 547 Chris Morris having points 46\n",
      "Id 553 Gurkeerat Singh Mann having points 24\n",
      "Id 23 Yuzvendra Chahal having points 48\n",
      "Id 589 Mohammed Siraj having points 58\n",
      "Id 1064 Josh Philippe having points 40\n",
      " \n",
      "Score for Dream Team is 602\n",
      "our score for team number 1 is 356\n",
      "our score for team number 2 is 358\n",
      "our score for team number 3 is 391\n",
      "our score for team number 4 is 391\n",
      "our score for team number 5 is 397\n",
      "our score for team number 6 is 358\n",
      "our score for team number 7 is 383\n",
      "our score for team number 8 is 373\n",
      "our score for team number 9 is 358\n",
      "our score for team number 10 is 356\n"
     ]
    },
    {
     "data": {
      "text/html": [
       "<style>.container { width:80% !important; }</style>"
      ],
      "text/plain": [
       "<IPython.core.display.HTML object>"
      ]
     },
     "metadata": {},
     "output_type": "display_data"
    },
    {
     "name": "stdout",
     "output_type": "stream",
     "text": [
      "Dream Team for match between Chennai Super Kings and Kolkata Knight Riders are \n",
      "Id 33 Shubman Gill having points 30\n",
      "Id 1068 Ruturaj Gaikwad having points 100\n",
      "Id 475 Ambati Rayudu having points 54\n",
      "Id 26 Ravindra Jadeja having points 75\n",
      "Id 206 Mitchell Santner having points 23\n",
      "Id 160 Karn Sharma having points 25\n",
      "Id 247 Lungi Ngidi having points 50\n",
      "Id 992 Nitish Rana having points 111\n",
      "Id 251 Dinesh Karthik having points 24\n",
      "Id 2 Pat Cummins having points 50\n",
      "Id 1028 Varun Chakravarthy having points 52\n",
      " \n",
      "Score for Dream Team is 594\n",
      "our score for team number 1 is 313\n",
      "our score for team number 2 is 250\n",
      "our score for team number 3 is 271\n",
      "our score for team number 4 is 275\n",
      "our score for team number 5 is 324\n",
      "our score for team number 6 is 313\n",
      "our score for team number 7 is 273\n",
      "our score for team number 8 is 307\n",
      "our score for team number 9 is 331\n",
      "our score for team number 10 is 295\n"
     ]
    },
    {
     "data": {
      "text/html": [
       "<style>.container { width:80% !important; }</style>"
      ],
      "text/plain": [
       "<IPython.core.display.HTML object>"
      ]
     },
     "metadata": {},
     "output_type": "display_data"
    },
    {
     "name": "stdout",
     "output_type": "stream",
     "text": [
      "Dream Team for match between Kings XI Punjab and Rajasthan Royals are \n",
      "Id 156 Chris Jordan having points 19\n",
      "Id 996 Murugan Ashwin having points 21\n",
      "Id 517 Robin Uthappa having points 37\n",
      "Id 151 Ben Stokes having points 131\n",
      "Id 32 Sanju Samson having points 61\n",
      "Id 20 KL Rahul having points 55\n",
      "Id 120 Chris Gayle having points 137\n",
      "Id 603 Nicholas Pooran having points 39\n",
      "Id 12 Steven Smith having points 36\n",
      "Id 154 Jos Buttler having points 29\n",
      "Id 604 Jofra Archer having points 50\n",
      " \n",
      "Score for Dream Team is 615\n",
      "our score for team number 1 is 510\n",
      "our score for team number 2 is 515\n",
      "our score for team number 3 is 537\n",
      "our score for team number 4 is 502\n",
      "our score for team number 5 is 492\n",
      "our score for team number 6 is 510\n",
      "our score for team number 7 is 515\n",
      "our score for team number 8 is 515\n",
      "our score for team number 9 is 394\n",
      "our score for team number 10 is 502\n",
      "59.92351687199041\n"
     ]
    }
   ],
   "source": [
    "#Cross validation for proper training data\n",
    "date1=1\n",
    "year1 = 2020\n",
    "month1 = 1\n",
    "month2 = 10\n",
    "year2 = 2020\n",
    "test_year = 2020\n",
    "test_month = 10\n",
    "start_time = 12\n",
    "results = []\n",
    "for date in range(25,31):\n",
    "    res1 = []\n",
    "    test_date = date\n",
    "    date2 = date-1\n",
    "    %run ./Fantasy_Team_Pred.ipynb\n",
    "    res1.append(max_score)\n",
    "    for ps in pred_scores:\n",
    "        res1.append(ps)\n",
    "    results.append(res1)\n",
    "sum_cv = 0\n",
    "n_cv = 0\n",
    "for i in results:\n",
    "    for j in range(1,len(i)):\n",
    "        sum_cv = sum_cv + i[j]/i[0]\n",
    "        n_cv = n_cv+1\n",
    "print(sum_cv*100/n_cv)"
   ]
  },
  {
   "cell_type": "markdown",
   "metadata": {},
   "source": [
    "# Training on data from 2017 to 2020"
   ]
  },
  {
   "cell_type": "code",
   "execution_count": 1,
   "metadata": {},
   "outputs": [
    {
     "data": {
      "text/html": [
       "<style>.container { width:80% !important; }</style>"
      ],
      "text/plain": [
       "<IPython.core.display.HTML object>"
      ]
     },
     "metadata": {},
     "output_type": "display_data"
    },
    {
     "name": "stdout",
     "output_type": "stream",
     "text": [
      "Dream Team for match between Delhi Capitals and Royal Challengers Bangalore are \n",
      "Id 1063 Devdutt Padikkal having points 63\n",
      "Id 19 Virat Kohli having points 34\n",
      "Id 132 AB de Villiers having points 42\n",
      "Id 589 Mohammed Siraj having points 31\n",
      "Id 64 Ravichandran Ashwin having points 29\n",
      "Id 273 Anrich Nortje having points 75\n",
      "Id 192 Kagiso Rabada having points 50\n",
      "Id 24 Shikhar Dhawan having points 68\n",
      "Id 117 Ajinkya Rahane having points 96\n",
      "Id 608 Shivam Dube having points 38\n",
      "Id 1065 Shahbaz Ahmed having points 51\n",
      " \n",
      "Score for Dream Team is 577\n",
      "our score for team number 1 is 401\n",
      "our score for team number 2 is 322\n",
      "our score for team number 3 is 359\n",
      "our score for team number 4 is 322\n",
      "our score for team number 5 is 380\n",
      "our score for team number 6 is 401\n",
      "our score for team number 7 is 347\n",
      "our score for team number 8 is 380\n",
      "our score for team number 9 is 398\n",
      "our score for team number 10 is 398\n"
     ]
    },
    {
     "data": {
      "text/html": [
       "<style>.container { width:80% !important; }</style>"
      ],
      "text/plain": [
       "<IPython.core.display.HTML object>"
      ]
     },
     "metadata": {},
     "output_type": "display_data"
    },
    {
     "name": "stdout",
     "output_type": "stream",
     "text": [
      "Dream Team for match between Mumbai Indians and Sunrisers Hyderabad are \n",
      "Id 119 Rohit Sharma having points 4\n",
      "Id 245 Quinton de Kock having points 33\n",
      "Id 987 Suryakumar Yadav having points 41\n",
      "Id 988 Ishan Kishan having points 40\n",
      "Id 423 Kieron Pollard having points 55\n",
      "Id 200 Jason Holder having points 50\n",
      "Id 274 Shahbaz Nadeem having points 54\n",
      "Id 599 Rashid Khan having points 25\n",
      "Id 17 David Warner having points 114\n",
      "Id 82 Wriddhiman Saha having points 84\n",
      "Id 1007 Sandeep Sharma having points 75\n",
      " \n",
      "Score for Dream Team is 575\n",
      "our score for team number 1 is 272\n",
      "our score for team number 2 is 257\n",
      "our score for team number 3 is 256\n",
      "our score for team number 4 is 272\n",
      "our score for team number 5 is 296\n",
      "our score for team number 6 is 305\n",
      "our score for team number 7 is 264\n",
      "our score for team number 8 is 297\n",
      "our score for team number 9 is 296\n",
      "our score for team number 10 is 264\n"
     ]
    },
    {
     "data": {
      "text/html": [
       "<style>.container { width:80% !important; }</style>"
      ],
      "text/plain": [
       "<IPython.core.display.HTML object>"
      ]
     },
     "metadata": {},
     "output_type": "display_data"
    },
    {
     "name": "stdout",
     "output_type": "stream",
     "text": [
      "Dream Team for match between Mumbai Indians and Delhi Capitals are \n",
      "Id 987 Suryakumar Yadav having points 71\n",
      "Id 988 Ishan Kishan having points 76\n",
      "Id 14 Marcus Stoinis having points 115\n",
      "Id 515 Axar Patel having points 53\n",
      "Id 93 Trent Boult having points 54\n",
      "Id 64 Ravichandran Ashwin having points 75\n",
      "Id 22 Jasprit Bumrah having points 114\n",
      "Id 674 Krunal Pandya having points 43\n",
      "Id 30 Hardik Pandya having points 52\n",
      "Id 423 Kieron Pollard having points 23\n",
      "Id 245 Quinton de Kock having points 64\n",
      " \n",
      "Score for Dream Team is 740\n",
      "our score for team number 1 is 387\n",
      "our score for team number 2 is 415\n",
      "our score for team number 3 is 415\n",
      "our score for team number 4 is 316\n",
      "our score for team number 5 is 409\n",
      "our score for team number 6 is 409\n",
      "our score for team number 7 is 427\n",
      "our score for team number 8 is 427\n",
      "our score for team number 9 is 424\n",
      "our score for team number 10 is 316\n"
     ]
    },
    {
     "data": {
      "text/html": [
       "<style>.container { width:80% !important; }</style>"
      ],
      "text/plain": [
       "<IPython.core.display.HTML object>"
      ]
     },
     "metadata": {},
     "output_type": "display_data"
    },
    {
     "name": "stdout",
     "output_type": "stream",
     "text": [
      "Dream Team for match between Sunrisers Hyderabad and Royal Challengers Bangalore are \n",
      "Id 1 Aaron Finch having points 38\n",
      "Id 132 AB de Villiers having points 93\n",
      "Id 18 Adam Zampa having points 39\n",
      "Id 23 Yuzvendra Chahal having points 25\n",
      "Id 589 Mohammed Siraj having points 61\n",
      "Id 274 Shahbaz Nadeem having points 25\n",
      "Id 17 David Warner having points 28\n",
      "Id 29 Manish Pandey having points 30\n",
      "Id 86 Kane Williamson having points 66\n",
      "Id 200 Jason Holder having points 102\n",
      "Id 1044 T Natarajan having points 50\n",
      " \n",
      "Score for Dream Team is 557\n",
      "our score for team number 1 is 347\n",
      "our score for team number 2 is 335\n",
      "our score for team number 3 is 347\n",
      "our score for team number 4 is 348\n",
      "our score for team number 5 is 247\n",
      "our score for team number 6 is 343\n",
      "our score for team number 7 is 283\n",
      "our score for team number 8 is 335\n",
      "our score for team number 9 is 343\n",
      "our score for team number 10 is 335\n"
     ]
    },
    {
     "data": {
      "text/html": [
       "<style>.container { width:80% !important; }</style>"
      ],
      "text/plain": [
       "<IPython.core.display.HTML object>"
      ]
     },
     "metadata": {},
     "output_type": "display_data"
    },
    {
     "name": "stdout",
     "output_type": "stream",
     "text": [
      "Dream Team for match between Delhi Capitals and Sunrisers Hyderabad are \n",
      "Id 257 Shimron Hetmyer having points 49\n",
      "Id 253 Rishabh Pant having points 2\n",
      "Id 1062 Abdul Samad having points 41\n",
      "Id 29 Manish Pandey having points 32\n",
      "Id 86 Kane Williamson having points 92\n",
      "Id 200 Jason Holder having points 31\n",
      "Id 1007 Sandeep Sharma having points 27\n",
      "Id 192 Kagiso Rabada having points 116\n",
      "Id 14 Marcus Stoinis having points 129\n",
      "Id 24 Shikhar Dhawan having points 98\n",
      "Id 599 Rashid Khan having points 40\n",
      " \n",
      "Score for Dream Team is 657\n",
      "our score for team number 1 is 370\n",
      "our score for team number 2 is 466\n",
      "our score for team number 3 is 436\n",
      "our score for team number 4 is 428\n",
      "our score for team number 5 is 352\n",
      "our score for team number 6 is 376\n",
      "our score for team number 7 is 446\n",
      "our score for team number 8 is 446\n",
      "our score for team number 9 is 437\n",
      "our score for team number 10 is 466\n"
     ]
    },
    {
     "data": {
      "text/html": [
       "<style>.container { width:80% !important; }</style>"
      ],
      "text/plain": [
       "<IPython.core.display.HTML object>"
      ]
     },
     "metadata": {},
     "output_type": "display_data"
    },
    {
     "name": "stdout",
     "output_type": "stream",
     "text": [
      "Dream Team for match between Mumbai Indians and Delhi Capitals are \n",
      "Id 25 Shreyas Iyer having points 85\n",
      "Id 253 Rishabh Pant having points 82\n",
      "Id 214 Jayant Yadav having points 25\n",
      "Id 484 Nathan Coulter-Nile having points 58\n",
      "Id 245 Quinton de Kock having points 42\n",
      "Id 987 Suryakumar Yadav having points 23\n",
      "Id 988 Ishan Kishan having points 39\n",
      "Id 119 Rohit Sharma having points 93\n",
      "Id 93 Trent Boult having points 75\n",
      "Id 273 Anrich Nortje having points 48\n",
      "Id 515 Axar Patel having points 14\n",
      " \n",
      "Score for Dream Team is 584\n",
      "our score for team number 1 is 369\n",
      "our score for team number 2 is 368\n",
      "our score for team number 3 is 349\n",
      "our score for team number 4 is 350\n",
      "our score for team number 5 is 368\n",
      "our score for team number 6 is 350\n",
      "our score for team number 7 is 349\n",
      "our score for team number 8 is 365\n",
      "our score for team number 9 is 329\n",
      "our score for team number 10 is 365\n",
      "58.29275536263173\n"
     ]
    }
   ],
   "source": [
    "date1=1\n",
    "year1 = 2017\n",
    "month1 = 1\n",
    "month2 = 11\n",
    "year2 = 2020\n",
    "test_year = 2020\n",
    "test_month = 11\n",
    "start_time = 12\n",
    "results = []\n",
    "nov_date = [2,3,5,6,8,10]\n",
    "for date in nov_date:\n",
    "    res1 = []\n",
    "    test_date = date\n",
    "    date2 = date-1\n",
    "    %run ./Fantasy_Team_Pred.ipynb\n",
    "    res1.append(max_score)\n",
    "    for ps in pred_scores:\n",
    "        res1.append(ps)\n",
    "    results.append(res1)\n",
    "sum_cv = 0\n",
    "n_cv = 0\n",
    "for i in results:\n",
    "    for j in range(1,len(i)):\n",
    "        sum_cv = sum_cv + i[j]/i[0]\n",
    "        n_cv = n_cv+1\n",
    "print(sum_cv*100/n_cv)"
   ]
  },
  {
   "cell_type": "code",
   "execution_count": 2,
   "metadata": {},
   "outputs": [],
   "source": [
    "(pd.DataFrame(results)).to_csv(\"Results_1_nov.csv\")"
   ]
  }
 ],
 "metadata": {
  "kernelspec": {
   "display_name": "Python 3",
   "language": "python",
   "name": "python3"
  },
  "language_info": {
   "codemirror_mode": {
    "name": "ipython",
    "version": 3
   },
   "file_extension": ".py",
   "mimetype": "text/x-python",
   "name": "python",
   "nbconvert_exporter": "python",
   "pygments_lexer": "ipython3",
   "version": "3.8.5"
  }
 },
 "nbformat": 4,
 "nbformat_minor": 4
}
