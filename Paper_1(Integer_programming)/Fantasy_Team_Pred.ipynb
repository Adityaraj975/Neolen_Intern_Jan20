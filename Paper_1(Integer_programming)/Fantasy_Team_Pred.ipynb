{
 "cells": [
  {
   "cell_type": "code",
   "execution_count": 25,
   "metadata": {},
   "outputs": [],
   "source": [
    "#host - trusted-prediction-research.c8qtxwbvasgw.ap-south-1.rds.amazonaws.com\n",
    "#user - postgres\n",
    "#passoword - ynKrco0QWa56iez8sKtG"
   ]
  },
  {
   "cell_type": "code",
   "execution_count": 1,
   "metadata": {},
   "outputs": [],
   "source": [
    "#train data from date1 to date2\n",
    "#date1 = 1\n",
    "#year1 = 2014\n",
    "#month1 = 1\n",
    "#date2 = 20\n",
    "#month2 = 11\n",
    "#year2 = 2020\n",
    "# Testing on match\n",
    "#test_date = 1\n",
    "#test_month = 11\n",
    "#test_year = 2020\n",
    "#start_time = 8  #for afternoon match\n",
    "#start_time = 12 #for evening match"
   ]
  },
  {
   "cell_type": "code",
   "execution_count": 3,
   "metadata": {},
   "outputs": [
    {
     "data": {
      "text/html": [
       "<style>.container { width:80% !important; }</style>"
      ],
      "text/plain": [
       "<IPython.core.display.HTML object>"
      ]
     },
     "metadata": {},
     "output_type": "display_data"
    }
   ],
   "source": [
    "from IPython.core.display import display, HTML\n",
    "display(HTML(\"<style>.container { width:80% !important; }</style>\"))"
   ]
  },
  {
   "cell_type": "code",
   "execution_count": 4,
   "metadata": {},
   "outputs": [],
   "source": [
    "host_=\"trusted-prediction-research.c8qtxwbvasgw.ap-south-1.rds.amazonaws.com\"\n",
    "user_= \"postgres\"\n",
    "passw= \"ynKrco0QWa56iez8sKtG\""
   ]
  },
  {
   "cell_type": "code",
   "execution_count": 5,
   "metadata": {},
   "outputs": [],
   "source": [
    "import numpy as np\n",
    "import pandas as pd\n",
    "import psycopg2"
   ]
  },
  {
   "cell_type": "markdown",
   "metadata": {},
   "source": [
    "# Extracting IPL Data"
   ]
  },
  {
   "cell_type": "code",
   "execution_count": 6,
   "metadata": {},
   "outputs": [],
   "source": [
    "conn = psycopg2.connect(\"dbname=cricket host =sportsanalytics.in user=postgres password=Sumit@123 \")"
   ]
  },
  {
   "cell_type": "code",
   "execution_count": 7,
   "metadata": {},
   "outputs": [],
   "source": [
    "series = pd.read_sql_query(\"SELECT id FROM cds_series_series WHERE league_id = 4\", conn)"
   ]
  },
  {
   "cell_type": "code",
   "execution_count": 8,
   "metadata": {},
   "outputs": [],
   "source": [
    "query = f\"\"\"SELECT id,start_date FROM cds_match_match WHERE series_id in {tuple(series['id'])} AND start_date BETWEEN '{year1}-{month1}-{date1} 00:00:01' AND '{year2}-{month2}-{date2} 23:59:59' \"\"\" \n",
    "match = pd.read_sql_query(query, conn)\n",
    "query = f\"\"\"SELECT id,match_id,team_id FROM cds_scorecard_scorecard WHERE match_id in {tuple(match['id'])}\"\"\"\n",
    "scorecard_scorecard = pd.read_sql_query(query, conn)\n",
    "query = f\"\"\"SELECT * FROM cds_scorecard_matchplayers WHERE match_id in {tuple(match['id'])} \"\"\"\n",
    "player_data = pd.read_sql_query(query,conn)\n",
    "player_data = player_data[{'isAllrounder','isBatsmen','isBowler','isWicketKeeper','player_id'}]"
   ]
  },
  {
   "cell_type": "code",
   "execution_count": 9,
   "metadata": {},
   "outputs": [],
   "source": [
    "query = f\"\"\"SELECT * FROM cds_match_inning_matchbatsmaninning WHERE scorecard_id in {tuple(scorecard_scorecard['id'])}\"\"\"\n",
    "batsman_data = pd.read_sql_query(query,conn)"
   ]
  },
  {
   "cell_type": "code",
   "execution_count": 10,
   "metadata": {},
   "outputs": [],
   "source": [
    "query = f\"\"\"SELECT * FROM cds_match_inning_matchbowlersinning WHERE scorecard_id in {tuple(scorecard_scorecard['id'])}\"\"\"\n",
    "bowler_data = pd.read_sql_query(query,conn)"
   ]
  },
  {
   "cell_type": "code",
   "execution_count": 11,
   "metadata": {},
   "outputs": [],
   "source": [
    "batsman_inning = pd.read_sql_query(\"SELECT * FROM cds_match_inning_matchbatsmaninning\", conn)\n",
    "bowl_inning = pd.read_sql_query(\"SELECT * FROM cds_match_inning_matchbowlersinning\", conn)\n",
    "batsman_data = batsman_inning[batsman_inning['scorecard_id'].isin(scorecard_scorecard['id'])] \n",
    "bowler_data = bowl_inning[bowl_inning['scorecard_id'].isin(scorecard_scorecard['id'])]"
   ]
  },
  {
   "cell_type": "code",
   "execution_count": 12,
   "metadata": {},
   "outputs": [],
   "source": [
    "query = f\"\"\"SELECT id,start_date FROM cds_match_match WHERE series_id in {tuple(series['id'])} AND start_date BETWEEN '2020-01-01 00:00:01' AND '2020-11-04 23:59:59' \"\"\" \n",
    "match2020 = pd.read_sql_query(query, conn)\n",
    "query = f\"\"\"SELECT * FROM cds_scorecard_matchplayers WHERE match_id in {tuple(match2020['id'])} \"\"\"\n",
    "player_data2020 = pd.read_sql_query(query,conn)\n",
    "playerid_team2020 = dict(zip(player_data2020['player_id'],player_data2020['team_id']))"
   ]
  },
  {
   "cell_type": "code",
   "execution_count": 13,
   "metadata": {},
   "outputs": [],
   "source": [
    "playerid_name = pd.read_sql_query(\"SELECT id,name FROM cds_player_player\", conn)\n",
    "playerid_name = dict(zip(playerid_name['id'],playerid_name['name']))\n",
    "teamid_name = pd.read_sql_query(\"SELECT id,name FROM cds_team_team\", conn)\n",
    "teamid_name = dict(zip(teamid_name['id'],teamid_name['name']))"
   ]
  },
  {
   "cell_type": "markdown",
   "metadata": {},
   "source": [
    "# Data preprocessing and Fantasy points calculation"
   ]
  },
  {
   "cell_type": "code",
   "execution_count": 14,
   "metadata": {},
   "outputs": [],
   "source": [
    "batsman_data = batsman_data[{'balls','runs','strike_rate','fours','sixes','player_id','scorecard_id'}]\n",
    "bowler_data = bowler_data[{'economy','wickets','player_id','scorecard_id'}]"
   ]
  },
  {
   "cell_type": "code",
   "execution_count": 15,
   "metadata": {},
   "outputs": [],
   "source": [
    "batting_data = batsman_data.merge(player_data, how='left', on='player_id').drop_duplicates()\n",
    "bowling_data = bowler_data.merge(player_data,how='left', on='player_id').drop_duplicates()"
   ]
  },
  {
   "cell_type": "code",
   "execution_count": 16,
   "metadata": {},
   "outputs": [],
   "source": [
    "bowling_data['fantasy_points'] = (25*bowling_data['wickets'] +2*(bowling_data['economy']<4)+2*(bowling_data['economy']<5) +2*(bowling_data['economy']<6) -2*(bowling_data['economy']>9)-2*(bowling_data['economy']>10) - 2*(bowling_data['economy']>11)+ 8*(bowling_data['wickets']>=4)+8*(bowling_data['wickets']>=5))\n",
    "batting_data['fantasy_points'] = batting_data['runs'] + (batting_data['fours'] + batting_data['sixes']) + 2*batting_data['sixes'] + 8*(batting_data['runs']>=50) + 8*(batting_data['runs']>=100) - 2*(batting_data['runs']==0) - 2*(batting_data['balls']>=10)*(batting_data['strike_rate']<70)*(batting_data['strike_rate']>=60) - 4*(batting_data['balls']>=10)*(batting_data['strike_rate']<60)*(batting_data['strike_rate']>=50) - 6*(batting_data['balls']>=10)*(batting_data['strike_rate']<50)"
   ]
  },
  {
   "cell_type": "code",
   "execution_count": 17,
   "metadata": {},
   "outputs": [],
   "source": [
    "batting_data = batting_data[{'scorecard_id','fantasy_points','player_id'}]  \n",
    "bowling_data = bowling_data[{'scorecard_id','fantasy_points','player_id'}]"
   ]
  },
  {
   "cell_type": "code",
   "execution_count": 18,
   "metadata": {},
   "outputs": [],
   "source": [
    "scorecard_scorecard['scorecard_id'] = scorecard_scorecard['id']\n",
    "teams = np.unique(np.array(list(scorecard_scorecard['team_id'])))\n",
    "scorecard_scorecard = scorecard_scorecard[{'match_id','scorecard_id'}]"
   ]
  },
  {
   "cell_type": "code",
   "execution_count": 19,
   "metadata": {},
   "outputs": [],
   "source": [
    "bowling_data = bowling_data.merge(scorecard_scorecard,how='left', on='scorecard_id')\n",
    "batting_data = batting_data.merge(scorecard_scorecard,how='left', on='scorecard_id')\n",
    "players_data = pd.concat([batting_data, bowling_data],0)\n",
    "players_data = players_data[{'player_id','fantasy_points','match_id'}]"
   ]
  },
  {
   "cell_type": "code",
   "execution_count": 20,
   "metadata": {},
   "outputs": [],
   "source": [
    "grouped_data = players_data.groupby(['player_id','match_id']).sum()"
   ]
  },
  {
   "cell_type": "code",
   "execution_count": 21,
   "metadata": {},
   "outputs": [],
   "source": [
    "wicketkeeper = dict(zip(player_data['player_id'],player_data['isWicketKeeper'].astype(int)))\n",
    "bowlers = dict(zip(player_data['player_id'],player_data['isBowler'].astype(int)))\n",
    "batsmen = dict(zip(player_data['player_id'],player_data['isBatsmen'].astype(int)))\n",
    "allrounder = dict(zip(player_data['player_id'],player_data['isAllrounder'].astype(int)))"
   ]
  },
  {
   "cell_type": "code",
   "execution_count": 22,
   "metadata": {},
   "outputs": [
    {
     "name": "stdout",
     "output_type": "stream",
     "text": [
      "All IPL team ids are :\n",
      "Id 20 Chennai Super Kings\n",
      "Id 21 Mumbai Indians\n",
      "Id 22 Delhi Capitals\n",
      "Id 23 Sunrisers Hyderabad\n",
      "Id 24 Kolkata Knight Riders\n",
      "Id 25 Kings XI Punjab\n",
      "Id 26 Royal Challengers Bangalore\n",
      "Id 27 Rajasthan Royals\n",
      "Id 28 Rising Pune Supergiant\n",
      "Id 29 Gujarat Lions\n"
     ]
    }
   ],
   "source": [
    "#print(\"All IPL team ids are :\")\n",
    "#for i in teams:\n",
    "#    print(\"Id\",i,teamid_name[i])"
   ]
  },
  {
   "cell_type": "markdown",
   "metadata": {},
   "source": [
    "# Modelling\n"
   ]
  },
  {
   "cell_type": "markdown",
   "metadata": {},
   "source": [
    "## For Eliminator the two teams are "
   ]
  },
  {
   "cell_type": "code",
   "execution_count": 23,
   "metadata": {},
   "outputs": [],
   "source": [
    "team1 = 23\n",
    "team2 = 26"
   ]
  },
  {
   "cell_type": "code",
   "execution_count": 24,
   "metadata": {},
   "outputs": [
    {
     "data": {
      "text/plain": [
       "26"
      ]
     },
     "execution_count": 24,
     "metadata": {},
     "output_type": "execute_result"
    }
   ],
   "source": [
    "team2"
   ]
  },
  {
   "cell_type": "markdown",
   "metadata": {},
   "source": [
    "## Dream Team code"
   ]
  },
  {
   "cell_type": "code",
   "execution_count": 83,
   "metadata": {},
   "outputs": [],
   "source": [
    "series_dt = pd.read_sql_query(\"SELECT id FROM cds_series_series WHERE league_id = 4\", conn)\n",
    "query = f\"\"\"SELECT id,start_date FROM cds_match_match WHERE series_id in {tuple(series_dt['id'])} AND start_date BETWEEN '{test_year}-{test_month}-{test_date} {start_time}:00:01' AND '{test_year}-{test_month}-{test_date} 23:59:59' \"\"\" \n",
    "match_dt = pd.read_sql_query(query, conn)\n",
    "mid = match_dt['id'][0]\n",
    "query = f\"\"\"SELECT id,match_id,team_id FROM cds_scorecard_scorecard WHERE match_id = {mid}\"\"\"\n",
    "scorecard_scorecard_dt = pd.read_sql_query(query, conn)\n",
    "query = f\"\"\"SELECT * FROM cds_match_inning_matchbatsmaninning WHERE scorecard_id in {tuple(scorecard_scorecard_dt['id'])}\"\"\"\n",
    "batsman_inning_dt = pd.read_sql_query(query, conn)\n",
    "query = f\"\"\"SELECT * FROM cds_match_inning_matchbowlersinning WHERE scorecard_id in {tuple(scorecard_scorecard_dt['id'])}\"\"\"\n",
    "bowl_inning_dt = pd.read_sql_query(query, conn)\n",
    "query = f\"\"\"SELECT * FROM cds_match_inning_matchfieldinginning WHERE scorecard_id in {tuple(scorecard_scorecard_dt['id'])}\"\"\"\n",
    "fielding_inning = pd.read_sql_query(query, conn)"
   ]
  },
  {
   "cell_type": "code",
   "execution_count": 87,
   "metadata": {},
   "outputs": [
    {
     "name": "stdout",
     "output_type": "stream",
     "text": [
      "Dream Team for match between Kolkata Knight Riders and Rajasthan Royals are \n",
      "Team 1 is\n",
      "Id 1031 Shivam Mavi having points 64\n",
      "Id 1028 Varun Chakravarthy having points 52\n",
      "Id 33 Shubman Gill having points 42\n",
      "Id 1017 Rahul Tripathi having points 49\n",
      "Id 439 Eoin Morgan having points 99\n",
      "Id 2 Pat Cummins having points 134\n",
      "Id 154 Jos Buttler having points 50\n",
      "Id 1020 Rahul Tewatia having points 111\n",
      "Id 1001 Shreyas Gopal having points 44\n",
      "Id 604 Jofra Archer having points 35\n",
      "Id 1067 Kartik Tyagi having points 52\n",
      " \n",
      "Score for Dream Team is 732\n"
     ]
    }
   ],
   "source": [
    "\n",
    "query = f\"\"\"SELECT * FROM cds_scorecard_matchplayers WHERE match_id = {int(match_dt['id'])} \"\"\"\n",
    "player_data_dt = pd.read_sql_query(query,conn)\n",
    "player_data_dt = player_data_dt[{'isAllrounder','isBatsmen','isBowler','isWicketKeeper','player_id'}]\n",
    "team1 = np.unique(scorecard_scorecard_dt['team_id'])[0]\n",
    "team2 = np.unique(scorecard_scorecard_dt['team_id'])[1]\n",
    "batsman_data_dt = batsman_inning_dt[batsman_inning_dt['scorecard_id'].isin(scorecard_scorecard_dt['id'])] \n",
    "bowler_data_dt = bowl_inning_dt[bowl_inning_dt['scorecard_id'].isin(scorecard_scorecard_dt['id'])]\n",
    "query = f\"\"\"SELECT id,start_date FROM cds_match_match WHERE series_id in {tuple(series_dt['id'])} AND start_date BETWEEN '{test_year}-{test_month}-{test_date} {start_time}:00:01' AND '{test_year}-{test_month}-{test_date} 23:59:59' \"\"\" \n",
    "match2020_dt = pd.read_sql_query(query, conn)\n",
    "mid2020 = match2020_dt['id'][0]\n",
    "query = f\"\"\"SELECT * FROM cds_scorecard_matchplayers WHERE match_id = {mid2020} \"\"\"\n",
    "player_data2020_dt = pd.read_sql_query(query,conn)\n",
    "playerid_team2020_dt = dict(zip(player_data2020_dt['player_id'],player_data2020_dt['team_id']))\n",
    "playerid_name_dt = pd.read_sql_query(\"SELECT id,name FROM cds_player_player\", conn)\n",
    "playerid_name_dt = dict(zip(playerid_name_dt['id'],playerid_name_dt['name']))\n",
    "#teamid_name = pd.read_sql_query(\"SELECT id,name FROM cds_team_team\", conn)\n",
    "#teamid_name = dict(zip(teamid_name['id'],teamid_name['name']))\n",
    "batsman_data_dt = batsman_data_dt[{'balls','runs','strike_rate','fours','sixes','player_id','scorecard_id'}]\n",
    "bowler_data_dt = bowler_data_dt[{'economy','wickets','player_id','scorecard_id'}]\n",
    "batting_data_dt = batsman_data_dt.merge(player_data_dt, how='left', on='player_id').drop_duplicates()\n",
    "bowling_data_dt = bowler_data_dt.merge(player_data_dt,how='left', on='player_id').drop_duplicates()\n",
    "bowling_data_dt['fantasy_points'] = (25*bowling_data_dt['wickets'] +2*(bowling_data_dt['economy']<4)+2*(bowling_data_dt['economy']<5) +2*(bowling_data_dt['economy']<6) -2*(bowling_data_dt['economy']>9)-2*(bowling_data_dt['economy']>10) - 2*(bowling_data_dt['economy']>11)+ 8*(bowling_data_dt['wickets']>=4)+8*(bowling_data_dt['wickets']>=5))\n",
    "batting_data_dt['fantasy_points'] = batting_data_dt['runs'] + (batting_data_dt['fours'] + batting_data_dt['sixes']) + 2*batting_data_dt['sixes'] + 8*(batting_data_dt['runs']>=50) + 8*(batting_data_dt['runs']>=100) - 2*(batting_data_dt['runs']==0) - 2*(batting_data_dt['balls']>=10)*(batting_data_dt['strike_rate']<70)*(batting_data_dt['strike_rate']>=60) - 4*(batting_data_dt['balls']>=10)*(batting_data_dt['strike_rate']<60)*(batting_data_dt['strike_rate']>=50) - 6*(batting_data_dt['balls']>=10)*(batting_data_dt['strike_rate']<50)\n",
    "fielding_points = {}\n",
    "for i in fielding_inning.index:\n",
    "    if(list(fielding_points.keys()).count(fielding_inning['fielder_id'][i])==1):\n",
    "        if(fielding_inning['isCaught'][i]):\n",
    "            fielding_points[fielding_inning['fielder_id'][i]]+=8\n",
    "        if(fielding_inning['isRunOut'][i]):\n",
    "            fielding_points[fielding_inning['fielder_id'][i]]+=12\n",
    "    else:\n",
    "        if(fielding_inning['isCaught'][i]):\n",
    "            fielding_points[fielding_inning['fielder_id'][i]] = 8\n",
    "        if(fielding_inning['isRunOut'][i]):\n",
    "            fielding_points[fielding_inning['fielder_id'][i]] = 12\n",
    "bowling_data_dt = bowling_data_dt[{'scorecard_id','fantasy_points','player_id'}]\n",
    "batting_data_dt = batting_data_dt[{'scorecard_id','fantasy_points','player_id'}]  \n",
    "scorecard_scorecard_dt['scorecard_id'] = scorecard_scorecard_dt['id']\n",
    "teams_dt = np.unique(np.array(list(scorecard_scorecard_dt['team_id'])))\n",
    "scorecard_scorecard_dt = scorecard_scorecard_dt[{'match_id','scorecard_id'}]\n",
    "bowling_data_dt = bowling_data_dt.merge(scorecard_scorecard_dt,how='left', on='scorecard_id')\n",
    "batting_data_dt = batting_data_dt.merge(scorecard_scorecard_dt,how='left', on='scorecard_id')\n",
    "players_data_dt = pd.concat([batting_data_dt, bowling_data_dt],0)\n",
    "players_data_dt = players_data_dt[{'player_id','fantasy_points','match_id'}]\n",
    "grouped_data_dt = players_data_dt.groupby(['player_id','match_id']).sum()\n",
    "wicketkeeper_dt = dict(zip(player_data_dt['player_id'],player_data_dt['isWicketKeeper'].astype(int)))\n",
    "bowlers_dt = dict(zip(player_data_dt['player_id'],player_data_dt['isBowler'].astype(int)))\n",
    "batsmen_dt = dict(zip(player_data_dt['player_id'],player_data_dt['isBatsmen'].astype(int)))\n",
    "allrounder_dt = dict(zip(player_data_dt['player_id'],player_data_dt['isAllrounder'].astype(int)))\n",
    "player_team1_team2_dt = list(player_data_dt['player_id'])\n",
    "fantasy_points_dt = {}\n",
    "for i in player_team1_team2_dt:\n",
    "    fantasy_points_dt[i]=0\n",
    "j = 0\n",
    "for i in grouped_data_dt.index:\n",
    "    a = int(i[0])\n",
    "    fantasy_points_dt[a] = fantasy_points_dt[a] + list(grouped_data_dt['fantasy_points'])[j]\n",
    "    if(list(fielding_points.keys()).count(a)==1):\n",
    "        fantasy_points_dt[a] = fantasy_points_dt[a]+fielding_points[a]\n",
    "    j = j+1\n",
    "#Sinlgle team prediction code (Mainly for dream team)\n",
    "from pulp import *\n",
    "prob = LpProblem(\"Dream_Team\",LpMaximize)\n",
    "fantasy_team1 = dict({i: LpVariable(cat=LpBinary,name=\"PLAYER1_{}\".format(i)) for i in player_team1_team2_dt}) \n",
    "prob+= lpSum([ i for i in fantasy_team1.values()])== 11\n",
    "objective = lpSum([float(fantasy_points_dt[i]) * fantasy_team1[i] for i in fantasy_team1])\n",
    "prob += lpSum([fantasy_team1[i]*wicketkeeper_dt[i] for i in player_team1_team2_dt]) >= 1\n",
    "prob += lpSum([fantasy_team1[i]*batsmen_dt[i] for i in player_team1_team2_dt]) >=3\n",
    "prob += lpSum([fantasy_team1[i]*bowlers_dt[i] for i in player_team1_team2_dt]) >= 3\n",
    "prob += lpSum([fantasy_team1[i]*allrounder_dt[i] for i in player_team1_team2_dt]) >=1\n",
    "prob += objective\n",
    "prob.solve()\n",
    "print(\"Dream Team for match between\",teamid_name[team1],\"and\", teamid_name[team2],\"are \")\n",
    "max_score = 0\n",
    "for j in range(1,2):\n",
    "    #print(\"Team {} is\".format(j))\n",
    "    for i in fantasy_team1:\n",
    "        if(value(fantasy_team1[i])==1):\n",
    "            print(\"Id\",i,playerid_name[i],\"having points\",fantasy_points_dt[i])\n",
    "            max_score = max_score+fantasy_points_dt[i]\n",
    "    print(\" \")      \n",
    "print(\"Score for Dream Team is\",max_score)"
   ]
  },
  {
   "cell_type": "markdown",
   "metadata": {},
   "source": [
    "## Fantasy points prediction"
   ]
  },
  {
   "cell_type": "code",
   "execution_count": 89,
   "metadata": {},
   "outputs": [],
   "source": [
    "# All players from LineUps are taken below\n",
    "player_team1_team2 = player_team1_team2_dt"
   ]
  },
  {
   "cell_type": "code",
   "execution_count": 90,
   "metadata": {},
   "outputs": [],
   "source": [
    "fantasy_points_pred = {}"
   ]
  },
  {
   "cell_type": "code",
   "execution_count": 91,
   "metadata": {},
   "outputs": [],
   "source": [
    "from statsmodels.tsa.api import ExponentialSmoothing, SimpleExpSmoothing\n",
    "import warnings\n",
    "warnings.simplefilter(action='ignore', category=FutureWarning)\n",
    "#player_ids = np.unique(np.concatenate((pd.unique(batting_data['player_id']),pd.unique(bowling_data['player_id']))))\n",
    "rem = []\n",
    "for player in player_team1_team2 :\n",
    "    df = pd.DataFrame(np.array(grouped_data.iloc[grouped_data.index.get_level_values('player_id') == player]['fantasy_points']),columns = ['fantasy_score'])\n",
    "    if(len(df['fantasy_score'])==1):\n",
    "        fantasy_points_pred[player] = int(df['fantasy_score'])\n",
    "        continue\n",
    "    if(len(df['fantasy_score'])<1):\n",
    "        rem.append(player)\n",
    "        continue\n",
    "    model = SimpleExpSmoothing(np.asarray(df['fantasy_score'])).fit()\n",
    "    fantasy_points_pred[player] = int(model.forecast())\n",
    "    del model\n",
    "    del df\n",
    "for player in rem:\n",
    "    player_team1_team2.remove(player)"
   ]
  },
  {
   "cell_type": "markdown",
   "metadata": {},
   "source": [
    "## Fantasy Team prediction"
   ]
  },
  {
   "cell_type": "code",
   "execution_count": 92,
   "metadata": {},
   "outputs": [],
   "source": [
    "from pulp import *\n",
    "predicted_teams = []\n",
    "no_teams = 10"
   ]
  },
  {
   "cell_type": "code",
   "execution_count": 93,
   "metadata": {},
   "outputs": [],
   "source": [
    "import operator\n",
    "sorted_d = sorted(fantasy_points_pred.items(), key=operator.itemgetter(1))\n",
    "min_3 = []\n",
    "min_3.append(sorted_d[0][0])\n",
    "min_3.append(sorted_d[1][0])\n",
    "min_3.append(sorted_d[2][0])\n",
    "replace = (min_3[np.random.randint(0,len(min_3))])\n",
    "player_team1_team2.remove(replace)\n",
    "for n_teams in range(0,no_teams):\n",
    "    prob = LpProblem(\"Dream_Team\",LpMaximize)\n",
    "    fantasy_team1 = dict({i: LpVariable(cat=LpBinary,name=\"PLAYER1_{}\".format(i)) for i in player_team1_team2}) \n",
    "    prob+= lpSum([ i for i in fantasy_team1.values()])== 11\n",
    "    objective = lpSum([float(fantasy_points_pred[i]) * fantasy_team1[i] for i in fantasy_team1]) \n",
    "    # each playertype constraint\n",
    "    prob += lpSum([fantasy_team1[i]*wicketkeeper[i] for i in player_team1_team2]) >= 1\n",
    "    prob += lpSum([fantasy_team1[i]*batsmen[i] for i in player_team1_team2]) >=3\n",
    "    prob += lpSum([fantasy_team1[i]*bowlers[i] for i in player_team1_team2]) >= 3\n",
    "    prob += lpSum([fantasy_team1[i]*allrounder[i] for i in player_team1_team2]) >=1\n",
    "    prob += objective\n",
    "    prob.solve()\n",
    "    pred_teamid = []\n",
    "    #print(\"Fantasy teams for match between\",teamid_name[team1],\"and\", teamid_name[team2],\"are \")\n",
    "    for j in range(1,2):\n",
    "        #print(\"Team {} is\".format(j))\n",
    "        for i in fantasy_team1:\n",
    "            #pred_teamid[i] = value(fantasy_team1[i])\n",
    "            if(value(fantasy_team1[i])==1):\n",
    "                #print(\"Id\",i,playerid_name[i],\"predicted points\",fantasy_points_pred[i])\n",
    "                pred_teamid.append(i)\n",
    "    predicted_teams.append(pred_teamid)\n",
    "    pred_teamid.remove(pred_teamid[np.random.randint(0,len(pred_teamid))])\n",
    "    player_team1_team2.append(replace)\n",
    "    #sorted_d = sorted(fantasy_points_pred.items(), key=operator.itemgetter(1))\n",
    "    min_3 = []\n",
    "    if(sorted_d[0][0]!=replace): min_3.append(sorted_d[0][0])\n",
    "    if(sorted_d[1][0]!=replace): min_3.append(sorted_d[1][0])\n",
    "    if(sorted_d[2][0]!=replace): min_3.append(sorted_d[2][0])\n",
    "    if(sorted_d[3][0]!=replace): min_3.append(sorted_d[3][0])\n",
    "    replace = (min_3[np.random.randint(0,len(min_3))])\n",
    "    player_team1_team2.remove(replace)\n",
    "    "
   ]
  },
  {
   "cell_type": "code",
   "execution_count": 94,
   "metadata": {},
   "outputs": [
    {
     "name": "stdout",
     "output_type": "stream",
     "text": [
      "322\n",
      "316\n",
      "411\n",
      "365\n",
      "416\n",
      "475\n",
      "400\n",
      "360\n",
      "469\n",
      "392\n"
     ]
    }
   ],
   "source": [
    "predicted_teams\n",
    "pred_scores = []\n",
    "teamn = 1\n",
    "for i in predicted_teams:\n",
    "    s = 0\n",
    "    for j in i:\n",
    "        s = s + fantasy_points_dt[j]\n",
    "    pred_scores.append(s)\n",
    "    print(f\"our score for team number {teamn} is {s}\")\n",
    "    teamn = teamn + 1"
   ]
  }
 ],
 "metadata": {
  "kernelspec": {
   "display_name": "Python 3",
   "language": "python",
   "name": "python3"
  },
  "language_info": {
   "codemirror_mode": {
    "name": "ipython",
    "version": 3
   },
   "file_extension": ".py",
   "mimetype": "text/x-python",
   "name": "python",
   "nbconvert_exporter": "python",
   "pygments_lexer": "ipython3",
   "version": "3.8.5"
  }
 },
 "nbformat": 4,
 "nbformat_minor": 4
}
