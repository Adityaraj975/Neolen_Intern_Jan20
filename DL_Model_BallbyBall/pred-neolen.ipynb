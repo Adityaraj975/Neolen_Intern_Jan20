{
 "cells": [
  {
   "cell_type": "code",
   "execution_count": 1,
   "metadata": {
    "execution": {
     "iopub.execute_input": "2021-02-20T17:55:01.696489Z",
     "iopub.status.busy": "2021-02-20T17:55:01.695893Z",
     "iopub.status.idle": "2021-02-20T17:55:18.657835Z",
     "shell.execute_reply": "2021-02-20T17:55:18.656391Z"
    },
    "papermill": {
     "duration": 16.980829,
     "end_time": "2021-02-20T17:55:18.658056",
     "exception": false,
     "start_time": "2021-02-20T17:55:01.677227",
     "status": "completed"
    },
    "tags": []
   },
   "outputs": [
    {
     "name": "stdout",
     "output_type": "stream",
     "text": [
      "Collecting psycopg2\r\n",
      "  Downloading psycopg2-2.8.6.tar.gz (383 kB)\r\n",
      "\u001b[K     |████████████████████████████████| 383 kB 865 kB/s \r\n",
      "\u001b[?25hBuilding wheels for collected packages: psycopg2\r\n",
      "  Building wheel for psycopg2 (setup.py) ... \u001b[?25l-\b \b\\\b \b|\b \b/\b \b-\b \b\\\b \b|\b \b/\b \b-\b \b\\\b \b|\b \b/\b \b-\b \b\\\b \b|\b \b/\b \b-\b \b\\\b \b|\b \b/\b \b-\b \b\\\b \b|\b \b/\b \b-\b \b\\\b \b|\b \b/\b \b-\b \b\\\b \bdone\r\n",
      "\u001b[?25h  Created wheel for psycopg2: filename=psycopg2-2.8.6-cp37-cp37m-linux_x86_64.whl size=452724 sha256=32c8c20355a55f9e45cba09af22a68adc1f406bb0f1ffa2d6ebd2b9d0f063383\r\n",
      "  Stored in directory: /root/.cache/pip/wheels/25/78/75/9c0323f7e1fb42143cbd2439302beb7850a1034abb961cb281\r\n",
      "Successfully built psycopg2\r\n",
      "Installing collected packages: psycopg2\r\n",
      "Successfully installed psycopg2-2.8.6\r\n"
     ]
    }
   ],
   "source": [
    "!pip install psycopg2\n"
   ]
  },
  {
   "cell_type": "code",
   "execution_count": 2,
   "metadata": {
    "_cell_guid": "b1076dfc-b9ad-4769-8c92-a6c4dae69d19",
    "_uuid": "8f2839f25d086af736a60e9eeb907d3b93b6e0e5",
    "execution": {
     "iopub.execute_input": "2021-02-20T17:55:18.712352Z",
     "iopub.status.busy": "2021-02-20T17:55:18.711516Z",
     "iopub.status.idle": "2021-02-20T17:55:18.725247Z",
     "shell.execute_reply": "2021-02-20T17:55:18.724729Z"
    },
    "papermill": {
     "duration": 0.040871,
     "end_time": "2021-02-20T17:55:18.725364",
     "exception": false,
     "start_time": "2021-02-20T17:55:18.684493",
     "status": "completed"
    },
    "tags": []
   },
   "outputs": [],
   "source": [
    "import numpy as np\n",
    "import pandas as pd\n",
    "import psycopg2\n"
   ]
  },
  {
   "cell_type": "code",
   "execution_count": 3,
   "metadata": {
    "execution": {
     "iopub.execute_input": "2021-02-20T17:55:18.776796Z",
     "iopub.status.busy": "2021-02-20T17:55:18.776208Z",
     "iopub.status.idle": "2021-02-20T17:55:23.357543Z",
     "shell.execute_reply": "2021-02-20T17:55:23.356747Z"
    },
    "papermill": {
     "duration": 4.609876,
     "end_time": "2021-02-20T17:55:23.357669",
     "exception": false,
     "start_time": "2021-02-20T17:55:18.747793",
     "status": "completed"
    },
    "tags": []
   },
   "outputs": [],
   "source": [
    "conn = psycopg2.connect(\"dbname=cricket host =sportsanalytics.in user=postgres password=Sumit@123 \")\n",
    "series = pd.read_sql_query(\"SELECT id FROM cds_series_series WHERE league_id = 4 AND start_date BETWEEN '01-01-2008 00:00:01' AND '01-01-2020 00:00:01'\", conn)\n",
    "query = f\"\"\"SELECT id FROM cds_match_match WHERE series_id in {tuple(series['id'])} \"\"\"\n",
    "match_ids = pd.read_sql_query(query,conn)\n",
    "query = f\"\"\"SELECT id,match_id FROM cds_scorecard_scorecard WHERE match_id in {tuple(match_ids['id'])} and inning = 1 \"\"\"\n",
    "scorecard_ids = pd.read_sql_query(query,conn)\n",
    "query = f\"\"\"SELECT * FROM cds_commentary_commentary WHERE scorecard_id in {tuple(scorecard_ids['id'])} \"\"\"\n",
    "data = pd.read_sql_query(query,conn)\n",
    "data = data[['id', 'ball', 'over', 'total_runs', 'total_wickets','is_wide', 'runs', 'is_out', 'is_no_ball', 'batsmen_id', 'bowler_id', 'offstrike_batsmen_id','player_out_id', 'scorecard_id', 'team_id']]\n",
    "scorecard_ids.columns = ['scorecard_id', 'match_id']\n",
    "data = data.merge(scorecard_ids, on='scorecard_id', how='left')\n",
    "data = data.sort_values(['scorecard_id','over','ball'])"
   ]
  },
  {
   "cell_type": "code",
   "execution_count": 4,
   "metadata": {
    "execution": {
     "iopub.execute_input": "2021-02-20T17:55:23.406966Z",
     "iopub.status.busy": "2021-02-20T17:55:23.406434Z",
     "iopub.status.idle": "2021-02-20T17:55:23.543500Z",
     "shell.execute_reply": "2021-02-20T17:55:23.543071Z"
    },
    "papermill": {
     "duration": 0.163095,
     "end_time": "2021-02-20T17:55:23.543606",
     "exception": false,
     "start_time": "2021-02-20T17:55:23.380511",
     "status": "completed"
    },
    "tags": []
   },
   "outputs": [],
   "source": [
    "query = f\"\"\"SELECT player_id,average,strike_rate FROM cds_playerstats_playerbattingstats WHERE league_id = 4 \"\"\"\n",
    "batsman_data = pd.read_sql_query(query,conn)\n",
    "batsman_data.columns  = ['batsmen_id', 'batsman_average', 'batsman_strike_rate']\n"
   ]
  },
  {
   "cell_type": "code",
   "execution_count": 5,
   "metadata": {
    "execution": {
     "iopub.execute_input": "2021-02-20T17:55:23.595526Z",
     "iopub.status.busy": "2021-02-20T17:55:23.594914Z",
     "iopub.status.idle": "2021-02-20T17:55:23.731560Z",
     "shell.execute_reply": "2021-02-20T17:55:23.731107Z"
    },
    "papermill": {
     "duration": 0.164132,
     "end_time": "2021-02-20T17:55:23.731683",
     "exception": false,
     "start_time": "2021-02-20T17:55:23.567551",
     "status": "completed"
    },
    "tags": []
   },
   "outputs": [],
   "source": [
    "query = f\"\"\"SELECT player_id,economy,strike_rate FROM cds_playerstats_playerbowlingstats WHERE league_id = 4 \"\"\"\n",
    "bowler_data = pd.read_sql_query(query,conn)\n",
    "bowler_data.columns = ['bowler_id', 'bowling_economy', 'bowler_strike_rate']"
   ]
  },
  {
   "cell_type": "code",
   "execution_count": 6,
   "metadata": {
    "execution": {
     "iopub.execute_input": "2021-02-20T17:55:23.794511Z",
     "iopub.status.busy": "2021-02-20T17:55:23.793777Z",
     "iopub.status.idle": "2021-02-20T17:55:23.796278Z",
     "shell.execute_reply": "2021-02-20T17:55:23.796717Z"
    },
    "papermill": {
     "duration": 0.042145,
     "end_time": "2021-02-20T17:55:23.796843",
     "exception": false,
     "start_time": "2021-02-20T17:55:23.754698",
     "status": "completed"
    },
    "tags": []
   },
   "outputs": [],
   "source": [
    "def convert_data(data):  \n",
    "    data = data.merge(batsman_data,on = 'batsmen_id')\n",
    "    data = data.merge(bowler_data, on = 'bowler_id')\n",
    "    data = data.query(\"is_wide == False\")\n",
    "    data = data.query(\"is_no_ball == False\")\n",
    "    data = data[['ball', 'over', 'total_runs', 'total_wickets', 'runs','is_out', 'batsmen_id', 'bowler_id','offstrike_batsmen_id', 'player_out_id', 'scorecard_id','batsman_average', 'batsman_strike_rate', 'bowling_economy','bowler_strike_rate']]\n",
    "    my_data = []\n",
    "    for si in np.unique(np.array(data['scorecard_id'])):\n",
    "        test = data.query(\"scorecard_id == {}\".format(si)).sort_values('total_runs')\n",
    "        striker_run=[]\n",
    "        striker_balls=[]\n",
    "        sball = {}\n",
    "        srun = {}\n",
    "        for i in range(test.shape[0]):\n",
    "            kamkidata = test[i:i+1]\n",
    "            if(int(kamkidata['batsmen_id']) in srun.keys()):\n",
    "                striker_run.append(srun[int(kamkidata['batsmen_id'])])\n",
    "            else:\n",
    "                striker_run.append(0)\n",
    "                srun[int(kamkidata['batsmen_id'])] = 0\n",
    "        \n",
    "            if(int(kamkidata['batsmen_id']) in sball.keys()):\n",
    "                striker_balls.append(sball[int(kamkidata['batsmen_id'])])\n",
    "            else:\n",
    "                striker_balls.append(0)\n",
    "                sball[int(kamkidata['batsmen_id'])] = 0\n",
    "            sball[int(kamkidata['batsmen_id'])]+=1\n",
    "            srun[int(kamkidata['batsmen_id'])]+=int(kamkidata['runs'])\n",
    "        test['striker_runs'] = striker_run\n",
    "        test['striker_balls'] = striker_balls\n",
    "        test['ball_number'] = test['ball']+6*test['over']\n",
    "        test['player_out_id'] = (test['player_out_id']==test['batsmen_id']).astype(int)\n",
    "        test['is_out'] = test['is_out'].astype(int)\n",
    "        test = test.drop(columns = ['ball','over','scorecard_id'])\n",
    "        test['total_runs'] = test['total_runs']-test['runs']\n",
    "        test['runs_0'] = (test['runs']==0).astype(int)\n",
    "        test['runs_1'] = (test['runs']==1).astype(int)\n",
    "        test['runs_2'] = (test['runs']==2).astype(int)\n",
    "        test['runs_3'] = (test['runs']==3).astype(int)\n",
    "        test['runs_4'] = (test['runs']==4).astype(int)\n",
    "        test['runs_6'] = (test['runs']==6).astype(int)\n",
    "        test = test.drop(columns = ['runs'])\n",
    "        my_data.append(test)\n",
    "    final_data = pd.concat(my_data)\n",
    "    input_data= np.array(final_data[['total_runs', 'total_wickets','batsman_average','batsman_strike_rate','bowling_economy','bowler_strike_rate','striker_runs', 'striker_balls', 'ball_number']])\n",
    "    output_data= np.array(final_data[['runs_0','runs_1','runs_2','runs_3','runs_4','runs_6','is_out']])\n",
    "    return input_data,output_data"
   ]
  },
  {
   "cell_type": "code",
   "execution_count": 7,
   "metadata": {
    "execution": {
     "iopub.execute_input": "2021-02-20T17:55:23.847538Z",
     "iopub.status.busy": "2021-02-20T17:55:23.846795Z",
     "iopub.status.idle": "2021-02-20T17:55:53.032287Z",
     "shell.execute_reply": "2021-02-20T17:55:53.031551Z"
    },
    "papermill": {
     "duration": 29.212568,
     "end_time": "2021-02-20T17:55:53.032473",
     "exception": false,
     "start_time": "2021-02-20T17:55:23.819905",
     "status": "completed"
    },
    "tags": []
   },
   "outputs": [],
   "source": [
    "train_x,train_y = convert_data(data)"
   ]
  },
  {
   "cell_type": "code",
   "execution_count": 8,
   "metadata": {
    "execution": {
     "iopub.execute_input": "2021-02-20T17:55:53.116191Z",
     "iopub.status.busy": "2021-02-20T17:55:53.115184Z",
     "iopub.status.idle": "2021-02-20T17:55:53.122152Z",
     "shell.execute_reply": "2021-02-20T17:55:53.123013Z"
    },
    "papermill": {
     "duration": 0.053194,
     "end_time": "2021-02-20T17:55:53.123182",
     "exception": false,
     "start_time": "2021-02-20T17:55:53.069988",
     "status": "completed"
    },
    "tags": []
   },
   "outputs": [
    {
     "data": {
      "text/plain": [
       "(88995, 7)"
      ]
     },
     "execution_count": 8,
     "metadata": {},
     "output_type": "execute_result"
    }
   ],
   "source": [
    "train_y.shape"
   ]
  },
  {
   "cell_type": "code",
   "execution_count": 9,
   "metadata": {
    "execution": {
     "iopub.execute_input": "2021-02-20T17:55:53.204114Z",
     "iopub.status.busy": "2021-02-20T17:55:53.203221Z",
     "iopub.status.idle": "2021-02-20T17:55:54.251487Z",
     "shell.execute_reply": "2021-02-20T17:55:54.251021Z"
    },
    "papermill": {
     "duration": 1.090662,
     "end_time": "2021-02-20T17:55:54.251617",
     "exception": false,
     "start_time": "2021-02-20T17:55:53.160955",
     "status": "completed"
    },
    "tags": []
   },
   "outputs": [],
   "source": [
    "from sklearn.preprocessing import StandardScaler\n",
    "scaler = StandardScaler()\n",
    "train_x = scaler.fit_transform(train_x)"
   ]
  },
  {
   "cell_type": "code",
   "execution_count": 10,
   "metadata": {
    "execution": {
     "iopub.execute_input": "2021-02-20T17:55:54.304048Z",
     "iopub.status.busy": "2021-02-20T17:55:54.302313Z",
     "iopub.status.idle": "2021-02-20T17:55:54.304644Z",
     "shell.execute_reply": "2021-02-20T17:55:54.305095Z"
    },
    "papermill": {
     "duration": 0.029879,
     "end_time": "2021-02-20T17:55:54.305222",
     "exception": false,
     "start_time": "2021-02-20T17:55:54.275343",
     "status": "completed"
    },
    "tags": []
   },
   "outputs": [],
   "source": [
    "full_train_x = train_x\n",
    "full_train_y = train_y"
   ]
  },
  {
   "cell_type": "code",
   "execution_count": 11,
   "metadata": {
    "execution": {
     "iopub.execute_input": "2021-02-20T17:55:54.356493Z",
     "iopub.status.busy": "2021-02-20T17:55:54.355994Z",
     "iopub.status.idle": "2021-02-20T17:55:54.359914Z",
     "shell.execute_reply": "2021-02-20T17:55:54.359424Z"
    },
    "papermill": {
     "duration": 0.031086,
     "end_time": "2021-02-20T17:55:54.360025",
     "exception": false,
     "start_time": "2021-02-20T17:55:54.328939",
     "status": "completed"
    },
    "tags": []
   },
   "outputs": [],
   "source": [
    "#splitting\n",
    "test_x = train_x[-10000:,:]\n",
    "test_y = train_y[-10000:,:]\n",
    "train_x = train_x[0:-10000,:]\n",
    "train_y = train_y[0:-10000,:]"
   ]
  },
  {
   "cell_type": "code",
   "execution_count": 12,
   "metadata": {
    "execution": {
     "iopub.execute_input": "2021-02-20T17:55:54.411213Z",
     "iopub.status.busy": "2021-02-20T17:55:54.410600Z",
     "iopub.status.idle": "2021-02-20T17:55:55.490326Z",
     "shell.execute_reply": "2021-02-20T17:55:55.490751Z"
    },
    "papermill": {
     "duration": 1.107349,
     "end_time": "2021-02-20T17:55:55.490910",
     "exception": false,
     "start_time": "2021-02-20T17:55:54.383561",
     "status": "completed"
    },
    "tags": []
   },
   "outputs": [
    {
     "name": "stdout",
     "output_type": "stream",
     "text": [
      "The accuracy when using decision tree classifier is  0.3008\n"
     ]
    }
   ],
   "source": [
    "from sklearn.tree import DecisionTreeClassifier \n",
    "dtree_model = DecisionTreeClassifier().fit(train_x,train_y) \n",
    "\n",
    "pred_y = dtree_model.predict(test_x)\n",
    "from sklearn.metrics import accuracy_score\n",
    "print(\"The accuracy when using decision tree classifier is \",accuracy_score(test_y,pred_y))"
   ]
  },
  {
   "cell_type": "code",
   "execution_count": 13,
   "metadata": {
    "execution": {
     "iopub.execute_input": "2021-02-20T17:55:55.543625Z",
     "iopub.status.busy": "2021-02-20T17:55:55.543125Z",
     "iopub.status.idle": "2021-02-20T17:55:55.548257Z",
     "shell.execute_reply": "2021-02-20T17:55:55.547806Z"
    },
    "papermill": {
     "duration": 0.033082,
     "end_time": "2021-02-20T17:55:55.548375",
     "exception": false,
     "start_time": "2021-02-20T17:55:55.515293",
     "status": "completed"
    },
    "tags": []
   },
   "outputs": [
    {
     "data": {
      "text/plain": [
       "array([[0, 0, 0, ..., 1, 0, 0],\n",
       "       [1, 0, 0, ..., 0, 0, 0],\n",
       "       [0, 0, 0, ..., 1, 0, 0],\n",
       "       ...,\n",
       "       [1, 0, 0, ..., 0, 0, 0],\n",
       "       [0, 0, 0, ..., 1, 0, 0],\n",
       "       [0, 0, 0, ..., 1, 0, 0]])"
      ]
     },
     "execution_count": 13,
     "metadata": {},
     "output_type": "execute_result"
    }
   ],
   "source": [
    "test_y"
   ]
  },
  {
   "cell_type": "code",
   "execution_count": 14,
   "metadata": {
    "execution": {
     "iopub.execute_input": "2021-02-20T17:55:55.602535Z",
     "iopub.status.busy": "2021-02-20T17:55:55.602052Z",
     "iopub.status.idle": "2021-02-20T17:56:03.352343Z",
     "shell.execute_reply": "2021-02-20T17:56:03.351710Z"
    },
    "papermill": {
     "duration": 7.779902,
     "end_time": "2021-02-20T17:56:03.352495",
     "exception": false,
     "start_time": "2021-02-20T17:55:55.572593",
     "status": "completed"
    },
    "tags": []
   },
   "outputs": [],
   "source": [
    "from keras.models import Sequential\n",
    "from keras.layers import Dense\n",
    "from keras import layers\n",
    "import keras\n",
    "model = Sequential()\n",
    "model.add(Dense(32, input_dim=9, kernel_initializer='he_uniform', activation='relu'))\n",
    "model.add(Dense(16))\n",
    "model.add(Dense(16))\n",
    "model.add(Dense(7, activation='softmax'))\n",
    "model.compile(loss='binary_crossentropy', optimizer='adam',metrics=['accuracy'])"
   ]
  },
  {
   "cell_type": "code",
   "execution_count": 15,
   "metadata": {
    "execution": {
     "iopub.execute_input": "2021-02-20T17:56:03.405812Z",
     "iopub.status.busy": "2021-02-20T17:56:03.405279Z",
     "iopub.status.idle": "2021-02-20T17:56:03.410713Z",
     "shell.execute_reply": "2021-02-20T17:56:03.410303Z"
    },
    "papermill": {
     "duration": 0.033544,
     "end_time": "2021-02-20T17:56:03.410873",
     "exception": false,
     "start_time": "2021-02-20T17:56:03.377329",
     "status": "completed"
    },
    "tags": []
   },
   "outputs": [
    {
     "data": {
      "text/plain": [
       "(78995, 9)"
      ]
     },
     "execution_count": 15,
     "metadata": {},
     "output_type": "execute_result"
    }
   ],
   "source": [
    "train_x.shape"
   ]
  },
  {
   "cell_type": "code",
   "execution_count": 16,
   "metadata": {
    "execution": {
     "iopub.execute_input": "2021-02-20T17:56:03.466431Z",
     "iopub.status.busy": "2021-02-20T17:56:03.465307Z",
     "iopub.status.idle": "2021-02-20T17:56:03.468575Z",
     "shell.execute_reply": "2021-02-20T17:56:03.468989Z"
    },
    "papermill": {
     "duration": 0.033165,
     "end_time": "2021-02-20T17:56:03.469106",
     "exception": false,
     "start_time": "2021-02-20T17:56:03.435941",
     "status": "completed"
    },
    "tags": []
   },
   "outputs": [
    {
     "data": {
      "text/plain": [
       "(10000, 7)"
      ]
     },
     "execution_count": 16,
     "metadata": {},
     "output_type": "execute_result"
    }
   ],
   "source": [
    "test_y.shape"
   ]
  },
  {
   "cell_type": "code",
   "execution_count": 17,
   "metadata": {
    "execution": {
     "iopub.execute_input": "2021-02-20T17:56:03.523364Z",
     "iopub.status.busy": "2021-02-20T17:56:03.522832Z",
     "iopub.status.idle": "2021-02-20T22:00:29.637690Z",
     "shell.execute_reply": "2021-02-20T22:00:29.637246Z"
    },
    "papermill": {
     "duration": 14666.143563,
     "end_time": "2021-02-20T22:00:29.637827",
     "exception": false,
     "start_time": "2021-02-20T17:56:03.494264",
     "status": "completed"
    },
    "tags": []
   },
   "outputs": [
    {
     "name": "stdout",
     "output_type": "stream",
     "text": [
      "Epoch 1/100\n",
      "78995/78995 [==============================] - 144s 2ms/step - loss: 0.3328 - accuracy: 0.4587 - val_loss: 0.3251 - val_accuracy: 0.4551\n",
      "Epoch 2/100\n",
      "78995/78995 [==============================] - 143s 2ms/step - loss: 0.3242 - accuracy: 0.4700 - val_loss: 0.3235 - val_accuracy: 0.4661\n",
      "Epoch 3/100\n",
      "78995/78995 [==============================] - 146s 2ms/step - loss: 0.3208 - accuracy: 0.4704 - val_loss: 0.3235 - val_accuracy: 0.4598\n",
      "Epoch 4/100\n",
      "78995/78995 [==============================] - 146s 2ms/step - loss: 0.3214 - accuracy: 0.4737 - val_loss: 0.3234 - val_accuracy: 0.4615\n",
      "Epoch 5/100\n",
      "78995/78995 [==============================] - 148s 2ms/step - loss: 0.3222 - accuracy: 0.4693 - val_loss: 0.3236 - val_accuracy: 0.4610\n",
      "Epoch 6/100\n",
      "78995/78995 [==============================] - 147s 2ms/step - loss: 0.3207 - accuracy: 0.4721 - val_loss: 0.3228 - val_accuracy: 0.4594\n",
      "Epoch 7/100\n",
      "78995/78995 [==============================] - 146s 2ms/step - loss: 0.3221 - accuracy: 0.4702 - val_loss: 0.3243 - val_accuracy: 0.4642\n",
      "Epoch 8/100\n",
      "78995/78995 [==============================] - 145s 2ms/step - loss: 0.3226 - accuracy: 0.4708 - val_loss: 0.3232 - val_accuracy: 0.4618\n",
      "Epoch 9/100\n",
      "78995/78995 [==============================] - 147s 2ms/step - loss: 0.3216 - accuracy: 0.4695 - val_loss: 0.3231 - val_accuracy: 0.4659\n",
      "Epoch 10/100\n",
      "78995/78995 [==============================] - 147s 2ms/step - loss: 0.3207 - accuracy: 0.4734 - val_loss: 0.3229 - val_accuracy: 0.4661\n",
      "Epoch 11/100\n",
      "78995/78995 [==============================] - 150s 2ms/step - loss: 0.3217 - accuracy: 0.4717 - val_loss: 0.3224 - val_accuracy: 0.4635\n",
      "Epoch 12/100\n",
      "78995/78995 [==============================] - 145s 2ms/step - loss: 0.3210 - accuracy: 0.4707 - val_loss: 0.3231 - val_accuracy: 0.4602\n",
      "Epoch 13/100\n",
      "78995/78995 [==============================] - 145s 2ms/step - loss: 0.3207 - accuracy: 0.4715 - val_loss: 0.3225 - val_accuracy: 0.4677\n",
      "Epoch 14/100\n",
      "78995/78995 [==============================] - 145s 2ms/step - loss: 0.3213 - accuracy: 0.4706 - val_loss: 0.3236 - val_accuracy: 0.4651\n",
      "Epoch 15/100\n",
      "78995/78995 [==============================] - 146s 2ms/step - loss: 0.3207 - accuracy: 0.4726 - val_loss: 0.3228 - val_accuracy: 0.4636\n",
      "Epoch 16/100\n",
      "78995/78995 [==============================] - 146s 2ms/step - loss: 0.3207 - accuracy: 0.4734 - val_loss: 0.3225 - val_accuracy: 0.4625\n",
      "Epoch 17/100\n",
      "78995/78995 [==============================] - 146s 2ms/step - loss: 0.3203 - accuracy: 0.4725 - val_loss: 0.3233 - val_accuracy: 0.4691\n",
      "Epoch 18/100\n",
      "78995/78995 [==============================] - 146s 2ms/step - loss: 0.3206 - accuracy: 0.4740 - val_loss: 0.3230 - val_accuracy: 0.4673\n",
      "Epoch 19/100\n",
      "78995/78995 [==============================] - 147s 2ms/step - loss: 0.3208 - accuracy: 0.4703 - val_loss: 0.3224 - val_accuracy: 0.4676\n",
      "Epoch 20/100\n",
      "78995/78995 [==============================] - 147s 2ms/step - loss: 0.3213 - accuracy: 0.4710 - val_loss: 0.3221 - val_accuracy: 0.4622\n",
      "Epoch 21/100\n",
      "78995/78995 [==============================] - 147s 2ms/step - loss: 0.3209 - accuracy: 0.4729 - val_loss: 0.3223 - val_accuracy: 0.4656\n",
      "Epoch 22/100\n",
      "78995/78995 [==============================] - 149s 2ms/step - loss: 0.3202 - accuracy: 0.4718 - val_loss: 0.3234 - val_accuracy: 0.4587\n",
      "Epoch 23/100\n",
      "78995/78995 [==============================] - 148s 2ms/step - loss: 0.3213 - accuracy: 0.4691 - val_loss: 0.3230 - val_accuracy: 0.4628\n",
      "Epoch 24/100\n",
      "78995/78995 [==============================] - 147s 2ms/step - loss: 0.3197 - accuracy: 0.4713 - val_loss: 0.3228 - val_accuracy: 0.4549\n",
      "Epoch 25/100\n",
      "78995/78995 [==============================] - 142s 2ms/step - loss: 0.3202 - accuracy: 0.4724 - val_loss: 0.3227 - val_accuracy: 0.4636\n",
      "Epoch 26/100\n",
      "78995/78995 [==============================] - 150s 2ms/step - loss: 0.3205 - accuracy: 0.4694 - val_loss: 0.3226 - val_accuracy: 0.4628\n",
      "Epoch 27/100\n",
      "78995/78995 [==============================] - 139s 2ms/step - loss: 0.3203 - accuracy: 0.4734 - val_loss: 0.3222 - val_accuracy: 0.4652\n",
      "Epoch 28/100\n",
      "78995/78995 [==============================] - 153s 2ms/step - loss: 0.3204 - accuracy: 0.4728 - val_loss: 0.3227 - val_accuracy: 0.4623\n",
      "Epoch 29/100\n",
      "78995/78995 [==============================] - 139s 2ms/step - loss: 0.3208 - accuracy: 0.4732 - val_loss: 0.3232 - val_accuracy: 0.4583\n",
      "Epoch 30/100\n",
      "78995/78995 [==============================] - 152s 2ms/step - loss: 0.3205 - accuracy: 0.4717 - val_loss: 0.3217 - val_accuracy: 0.4629\n",
      "Epoch 31/100\n",
      "78995/78995 [==============================] - 140s 2ms/step - loss: 0.3204 - accuracy: 0.4728 - val_loss: 0.3225 - val_accuracy: 0.4570\n",
      "Epoch 32/100\n",
      "78995/78995 [==============================] - 153s 2ms/step - loss: 0.3211 - accuracy: 0.4704 - val_loss: 0.3223 - val_accuracy: 0.4616\n",
      "Epoch 33/100\n",
      "78995/78995 [==============================] - 139s 2ms/step - loss: 0.3207 - accuracy: 0.4723 - val_loss: 0.3223 - val_accuracy: 0.4655\n",
      "Epoch 34/100\n",
      "78995/78995 [==============================] - 155s 2ms/step - loss: 0.3199 - accuracy: 0.4732 - val_loss: 0.3225 - val_accuracy: 0.4629\n",
      "Epoch 35/100\n",
      "78995/78995 [==============================] - 138s 2ms/step - loss: 0.3219 - accuracy: 0.4688 - val_loss: 0.3229 - val_accuracy: 0.4653\n",
      "Epoch 36/100\n",
      "78995/78995 [==============================] - 156s 2ms/step - loss: 0.3214 - accuracy: 0.4684 - val_loss: 0.3235 - val_accuracy: 0.4612\n",
      "Epoch 37/100\n",
      "78995/78995 [==============================] - 138s 2ms/step - loss: 0.3203 - accuracy: 0.4726 - val_loss: 0.3227 - val_accuracy: 0.4657\n",
      "Epoch 38/100\n",
      "78995/78995 [==============================] - 155s 2ms/step - loss: 0.3205 - accuracy: 0.4714 - val_loss: 0.3220 - val_accuracy: 0.4649\n",
      "Epoch 39/100\n",
      "78995/78995 [==============================] - 139s 2ms/step - loss: 0.3214 - accuracy: 0.4690 - val_loss: 0.3246 - val_accuracy: 0.4592\n",
      "Epoch 40/100\n",
      "78995/78995 [==============================] - 156s 2ms/step - loss: 0.3200 - accuracy: 0.4729 - val_loss: 0.3223 - val_accuracy: 0.4626\n",
      "Epoch 41/100\n",
      "78995/78995 [==============================] - 138s 2ms/step - loss: 0.3208 - accuracy: 0.4715 - val_loss: 0.3227 - val_accuracy: 0.4621\n",
      "Epoch 42/100\n",
      "78995/78995 [==============================] - 157s 2ms/step - loss: 0.3202 - accuracy: 0.4698 - val_loss: 0.3230 - val_accuracy: 0.4651\n",
      "Epoch 43/100\n",
      "78995/78995 [==============================] - 138s 2ms/step - loss: 0.3218 - accuracy: 0.4674 - val_loss: 0.3218 - val_accuracy: 0.4630\n",
      "Epoch 44/100\n",
      "78995/78995 [==============================] - 159s 2ms/step - loss: 0.3206 - accuracy: 0.4711 - val_loss: 0.3220 - val_accuracy: 0.4629\n",
      "Epoch 45/100\n",
      "78995/78995 [==============================] - 139s 2ms/step - loss: 0.3202 - accuracy: 0.4726 - val_loss: 0.3225 - val_accuracy: 0.4606\n",
      "Epoch 46/100\n",
      "78995/78995 [==============================] - 139s 2ms/step - loss: 0.3206 - accuracy: 0.4707 - val_loss: 0.3224 - val_accuracy: 0.4647\n",
      "Epoch 47/100\n",
      "78995/78995 [==============================] - 139s 2ms/step - loss: 0.3200 - accuracy: 0.4745 - val_loss: 0.3220 - val_accuracy: 0.4643\n",
      "Epoch 48/100\n",
      "78995/78995 [==============================] - 159s 2ms/step - loss: 0.3208 - accuracy: 0.4693 - val_loss: 0.3234 - val_accuracy: 0.4612\n",
      "Epoch 49/100\n",
      "78995/78995 [==============================] - 139s 2ms/step - loss: 0.3202 - accuracy: 0.4707 - val_loss: 0.3223 - val_accuracy: 0.4653\n",
      "Epoch 50/100\n",
      "78995/78995 [==============================] - 139s 2ms/step - loss: 0.3205 - accuracy: 0.4721 - val_loss: 0.3222 - val_accuracy: 0.4638\n",
      "Epoch 51/100\n",
      "78995/78995 [==============================] - 147s 2ms/step - loss: 0.3202 - accuracy: 0.4728 - val_loss: 0.3234 - val_accuracy: 0.4592\n",
      "Epoch 52/100\n",
      "78995/78995 [==============================] - 154s 2ms/step - loss: 0.3202 - accuracy: 0.4730 - val_loss: 0.3224 - val_accuracy: 0.4638\n",
      "Epoch 53/100\n",
      "78995/78995 [==============================] - 139s 2ms/step - loss: 0.3206 - accuracy: 0.4696 - val_loss: 0.3230 - val_accuracy: 0.4638\n",
      "Epoch 54/100\n",
      "78995/78995 [==============================] - 139s 2ms/step - loss: 0.3207 - accuracy: 0.4709 - val_loss: 0.3221 - val_accuracy: 0.4644\n",
      "Epoch 55/100\n",
      "78995/78995 [==============================] - 160s 2ms/step - loss: 0.3203 - accuracy: 0.4728 - val_loss: 0.3221 - val_accuracy: 0.4660\n",
      "Epoch 56/100\n",
      "78995/78995 [==============================] - 143s 2ms/step - loss: 0.3208 - accuracy: 0.4701 - val_loss: 0.3222 - val_accuracy: 0.4651\n",
      "Epoch 57/100\n",
      "78995/78995 [==============================] - 139s 2ms/step - loss: 0.3205 - accuracy: 0.4691 - val_loss: 0.3228 - val_accuracy: 0.4658\n",
      "Epoch 58/100\n",
      "78995/78995 [==============================] - 140s 2ms/step - loss: 0.3211 - accuracy: 0.4692 - val_loss: 0.3222 - val_accuracy: 0.4631\n",
      "Epoch 59/100\n",
      "78995/78995 [==============================] - 164s 2ms/step - loss: 0.3202 - accuracy: 0.4706 - val_loss: 0.3225 - val_accuracy: 0.4573\n",
      "Epoch 60/100\n",
      "78995/78995 [==============================] - 139s 2ms/step - loss: 0.3210 - accuracy: 0.4719 - val_loss: 0.3226 - val_accuracy: 0.4648\n",
      "Epoch 61/100\n",
      "78995/78995 [==============================] - 138s 2ms/step - loss: 0.3195 - accuracy: 0.4757 - val_loss: 0.3216 - val_accuracy: 0.4666\n",
      "Epoch 62/100\n",
      "78995/78995 [==============================] - 139s 2ms/step - loss: 0.3203 - accuracy: 0.4728 - val_loss: 0.3245 - val_accuracy: 0.4588\n",
      "Epoch 63/100\n",
      "78995/78995 [==============================] - 166s 2ms/step - loss: 0.3205 - accuracy: 0.4726 - val_loss: 0.3236 - val_accuracy: 0.4624\n",
      "Epoch 64/100\n",
      "78995/78995 [==============================] - 138s 2ms/step - loss: 0.3205 - accuracy: 0.4732 - val_loss: 0.3231 - val_accuracy: 0.4570\n",
      "Epoch 65/100\n",
      "78995/78995 [==============================] - 139s 2ms/step - loss: 0.3217 - accuracy: 0.4685 - val_loss: 0.3228 - val_accuracy: 0.4657\n",
      "Epoch 66/100\n",
      "78995/78995 [==============================] - 139s 2ms/step - loss: 0.3198 - accuracy: 0.4735 - val_loss: 0.3232 - val_accuracy: 0.4643\n",
      "Epoch 67/100\n",
      "78995/78995 [==============================] - 167s 2ms/step - loss: 0.3211 - accuracy: 0.4702 - val_loss: 0.3226 - val_accuracy: 0.4656\n",
      "Epoch 68/100\n",
      "78995/78995 [==============================] - 139s 2ms/step - loss: 0.3198 - accuracy: 0.4718 - val_loss: 0.3223 - val_accuracy: 0.4631\n",
      "Epoch 69/100\n",
      "78995/78995 [==============================] - 139s 2ms/step - loss: 0.3210 - accuracy: 0.4714 - val_loss: 0.3241 - val_accuracy: 0.4460\n",
      "Epoch 70/100\n",
      "78995/78995 [==============================] - 139s 2ms/step - loss: 0.3201 - accuracy: 0.4736 - val_loss: 0.3232 - val_accuracy: 0.4601\n",
      "Epoch 71/100\n",
      "78995/78995 [==============================] - 170s 2ms/step - loss: 0.3208 - accuracy: 0.4709 - val_loss: 0.3237 - val_accuracy: 0.4477\n",
      "Epoch 72/100\n",
      "78995/78995 [==============================] - 138s 2ms/step - loss: 0.3202 - accuracy: 0.4724 - val_loss: 0.3223 - val_accuracy: 0.4649\n",
      "Epoch 73/100\n",
      "78995/78995 [==============================] - 139s 2ms/step - loss: 0.3207 - accuracy: 0.4699 - val_loss: 0.3236 - val_accuracy: 0.4555\n",
      "Epoch 74/100\n",
      "78995/78995 [==============================] - 138s 2ms/step - loss: 0.3204 - accuracy: 0.4687 - val_loss: 0.3233 - val_accuracy: 0.4629\n",
      "Epoch 75/100\n",
      "78995/78995 [==============================] - 172s 2ms/step - loss: 0.3205 - accuracy: 0.4730 - val_loss: 0.3236 - val_accuracy: 0.4635\n",
      "Epoch 76/100\n",
      "78995/78995 [==============================] - 139s 2ms/step - loss: 0.3213 - accuracy: 0.4701 - val_loss: 0.3230 - val_accuracy: 0.4573\n",
      "Epoch 77/100\n",
      "78995/78995 [==============================] - 140s 2ms/step - loss: 0.3199 - accuracy: 0.4720 - val_loss: 0.3224 - val_accuracy: 0.4657\n",
      "Epoch 78/100\n",
      "78995/78995 [==============================] - 139s 2ms/step - loss: 0.3199 - accuracy: 0.4707 - val_loss: 0.3228 - val_accuracy: 0.4634\n",
      "Epoch 79/100\n",
      "78995/78995 [==============================] - 175s 2ms/step - loss: 0.3202 - accuracy: 0.4715 - val_loss: 0.3225 - val_accuracy: 0.4625\n",
      "Epoch 80/100\n",
      "78995/78995 [==============================] - 139s 2ms/step - loss: 0.3204 - accuracy: 0.4744 - val_loss: 0.3223 - val_accuracy: 0.4628\n",
      "Epoch 81/100\n",
      "78995/78995 [==============================] - 141s 2ms/step - loss: 0.3205 - accuracy: 0.4710 - val_loss: 0.3221 - val_accuracy: 0.4615\n",
      "Epoch 82/100\n",
      "78995/78995 [==============================] - 139s 2ms/step - loss: 0.3200 - accuracy: 0.4721 - val_loss: 0.3225 - val_accuracy: 0.4617\n",
      "Epoch 83/100\n",
      "78995/78995 [==============================] - 177s 2ms/step - loss: 0.3196 - accuracy: 0.4750 - val_loss: 0.3235 - val_accuracy: 0.4597\n",
      "Epoch 84/100\n",
      "78995/78995 [==============================] - 140s 2ms/step - loss: 0.3202 - accuracy: 0.4727 - val_loss: 0.3231 - val_accuracy: 0.4552\n",
      "Epoch 85/100\n",
      "78995/78995 [==============================] - 141s 2ms/step - loss: 0.3209 - accuracy: 0.4707 - val_loss: 0.3226 - val_accuracy: 0.4644\n",
      "Epoch 86/100\n",
      "78995/78995 [==============================] - 141s 2ms/step - loss: 0.3207 - accuracy: 0.4687 - val_loss: 0.3222 - val_accuracy: 0.4649\n",
      "Epoch 87/100\n",
      "78995/78995 [==============================] - 179s 2ms/step - loss: 0.3203 - accuracy: 0.4732 - val_loss: 0.3218 - val_accuracy: 0.4634\n",
      "Epoch 88/100\n",
      "78995/78995 [==============================] - 141s 2ms/step - loss: 0.3207 - accuracy: 0.4708 - val_loss: 0.3229 - val_accuracy: 0.4625\n",
      "Epoch 89/100\n",
      "78995/78995 [==============================] - 142s 2ms/step - loss: 0.3205 - accuracy: 0.4703 - val_loss: 0.3241 - val_accuracy: 0.4606\n",
      "Epoch 90/100\n",
      "78995/78995 [==============================] - 141s 2ms/step - loss: 0.3217 - accuracy: 0.4718 - val_loss: 0.3220 - val_accuracy: 0.4686\n",
      "Epoch 91/100\n",
      "78995/78995 [==============================] - 180s 2ms/step - loss: 0.3200 - accuracy: 0.4715 - val_loss: 0.3227 - val_accuracy: 0.4597\n",
      "Epoch 92/100\n",
      "78995/78995 [==============================] - 140s 2ms/step - loss: 0.3206 - accuracy: 0.4703 - val_loss: 0.3239 - val_accuracy: 0.4430\n",
      "Epoch 93/100\n",
      "78995/78995 [==============================] - 141s 2ms/step - loss: 0.3213 - accuracy: 0.4707 - val_loss: 0.3232 - val_accuracy: 0.4642\n",
      "Epoch 94/100\n",
      "78995/78995 [==============================] - 140s 2ms/step - loss: 0.3204 - accuracy: 0.4740 - val_loss: 0.3225 - val_accuracy: 0.4638\n",
      "Epoch 95/100\n",
      "78995/78995 [==============================] - 140s 2ms/step - loss: 0.3199 - accuracy: 0.4712 - val_loss: 0.3223 - val_accuracy: 0.4629\n",
      "Epoch 96/100\n",
      "78995/78995 [==============================] - 141s 2ms/step - loss: 0.3202 - accuracy: 0.4728 - val_loss: 0.3227 - val_accuracy: 0.4659\n",
      "Epoch 97/100\n",
      "78995/78995 [==============================] - 140s 2ms/step - loss: 0.3201 - accuracy: 0.4711 - val_loss: 0.3220 - val_accuracy: 0.4663\n",
      "Epoch 98/100\n",
      "78995/78995 [==============================] - 173s 2ms/step - loss: 0.3201 - accuracy: 0.4715 - val_loss: 0.3237 - val_accuracy: 0.4593\n",
      "Epoch 99/100\n",
      "78995/78995 [==============================] - 150s 2ms/step - loss: 0.3197 - accuracy: 0.4719 - val_loss: 0.3223 - val_accuracy: 0.4628\n",
      "Epoch 100/100\n",
      "78995/78995 [==============================] - 140s 2ms/step - loss: 0.3203 - accuracy: 0.4715 - val_loss: 0.3228 - val_accuracy: 0.4634\n"
     ]
    }
   ],
   "source": [
    "history  = model.fit(train_x,train_y,batch_size=1, epochs=100,validation_data=(test_x,test_y))"
   ]
  },
  {
   "cell_type": "code",
   "execution_count": 18,
   "metadata": {
    "execution": {
     "iopub.execute_input": "2021-02-20T22:02:51.948744Z",
     "iopub.status.busy": "2021-02-20T22:02:51.948184Z",
     "iopub.status.idle": "2021-02-20T22:02:51.952199Z",
     "shell.execute_reply": "2021-02-20T22:02:51.951576Z"
    },
    "papermill": {
     "duration": 71.049783,
     "end_time": "2021-02-20T22:02:51.952325",
     "exception": false,
     "start_time": "2021-02-20T22:01:40.902542",
     "status": "completed"
    },
    "tags": []
   },
   "outputs": [],
   "source": [
    "def onehot_to_indices(dataset):\n",
    "    ans = []\n",
    "    for i in range(dataset.shape[0]):\n",
    "        a = False\n",
    "        for j in range(dataset[i].shape[0]):\n",
    "            if(dataset[i][j]==1 and not a):\n",
    "                ans.append(j+1)\n",
    "                a = True\n",
    "        if(not a):\n",
    "            ans.append(1)\n",
    "    return ans\n",
    "    "
   ]
  },
  {
   "cell_type": "code",
   "execution_count": 19,
   "metadata": {
    "execution": {
     "iopub.execute_input": "2021-02-20T22:05:14.084175Z",
     "iopub.status.busy": "2021-02-20T22:05:14.083627Z",
     "iopub.status.idle": "2021-02-20T22:05:15.567791Z",
     "shell.execute_reply": "2021-02-20T22:05:15.567217Z"
    },
    "papermill": {
     "duration": 72.981569,
     "end_time": "2021-02-20T22:05:15.567915",
     "exception": false,
     "start_time": "2021-02-20T22:04:02.586346",
     "status": "completed"
    },
    "tags": []
   },
   "outputs": [],
   "source": [
    "series = pd.read_sql_query(\"SELECT id FROM cds_series_series WHERE league_id = 4 AND start_date BETWEEN '01-01-2020 00:00:01' AND '12-12-2020 00:00:01'\", conn)\n",
    "query = f\"\"\"SELECT id FROM cds_match_match WHERE series_id = {int(series['id'])} \"\"\"\n",
    "match_ids = pd.read_sql_query(query,conn)\n",
    "query = f\"\"\"SELECT id,match_id FROM cds_scorecard_scorecard WHERE match_id in {tuple(match_ids['id'])} and inning = 1 \"\"\"\n",
    "scorecard_ids = pd.read_sql_query(query,conn)\n",
    "query = f\"\"\"SELECT * FROM cds_commentary_commentary WHERE scorecard_id in {tuple(scorecard_ids['id'])} \"\"\"\n",
    "test_data = pd.read_sql_query(query,conn)\n",
    "test_data = test_data[['id', 'ball', 'over', 'total_runs', 'total_wickets','is_wide', 'runs', 'is_out', 'is_no_ball', 'batsmen_id', 'bowler_id', 'offstrike_batsmen_id','player_out_id', 'scorecard_id', 'team_id']]\n",
    "scorecard_ids.columns = ['scorecard_id', 'match_id']\n",
    "test_data = test_data.merge(scorecard_ids, on='scorecard_id', how='left')\n",
    "test_data = test_data.sort_values(['scorecard_id','over','ball'])"
   ]
  },
  {
   "cell_type": "code",
   "execution_count": 20,
   "metadata": {
    "execution": {
     "iopub.execute_input": "2021-02-20T22:07:37.903115Z",
     "iopub.status.busy": "2021-02-20T22:07:37.902314Z",
     "iopub.status.idle": "2021-02-20T22:07:40.054368Z",
     "shell.execute_reply": "2021-02-20T22:07:40.054770Z"
    },
    "papermill": {
     "duration": 73.335521,
     "end_time": "2021-02-20T22:07:40.054922",
     "exception": false,
     "start_time": "2021-02-20T22:06:26.719401",
     "status": "completed"
    },
    "tags": []
   },
   "outputs": [],
   "source": [
    "test_X,test_Y = convert_data(test_data)\n",
    "test_X = scaler.transform(test_X)"
   ]
  },
  {
   "cell_type": "code",
   "execution_count": 21,
   "metadata": {
    "execution": {
     "iopub.execute_input": "2021-02-20T22:10:01.908396Z",
     "iopub.status.busy": "2021-02-20T22:10:01.907581Z",
     "iopub.status.idle": "2021-02-20T22:10:02.134582Z",
     "shell.execute_reply": "2021-02-20T22:10:02.133640Z"
    },
    "papermill": {
     "duration": 71.52643,
     "end_time": "2021-02-20T22:10:02.134749",
     "exception": false,
     "start_time": "2021-02-20T22:08:50.608319",
     "status": "completed"
    },
    "tags": []
   },
   "outputs": [],
   "source": [
    "predictions = model.predict(test_X)"
   ]
  },
  {
   "cell_type": "code",
   "execution_count": 22,
   "metadata": {
    "execution": {
     "iopub.execute_input": "2021-02-20T22:12:24.056772Z",
     "iopub.status.busy": "2021-02-20T22:12:24.055929Z",
     "iopub.status.idle": "2021-02-20T22:12:24.058599Z",
     "shell.execute_reply": "2021-02-20T22:12:24.058191Z"
    },
    "papermill": {
     "duration": 70.847702,
     "end_time": "2021-02-20T22:12:24.058736",
     "exception": false,
     "start_time": "2021-02-20T22:11:13.211034",
     "status": "completed"
    },
    "tags": []
   },
   "outputs": [],
   "source": [
    "def softmm(predictions):\n",
    "    for i in range(len(predictions)):\n",
    "        index = list(predictions[i]).index(max(list(predictions[i])))\n",
    "        for j in range(7):\n",
    "            if(index == j):\n",
    "                predictions[i][j]=1\n",
    "            else:\n",
    "                predictions[i][j]=0\n",
    "    return predictions"
   ]
  },
  {
   "cell_type": "markdown",
   "metadata": {
    "papermill": {
     "duration": 71.174908,
     "end_time": "2021-02-20T22:14:46.731506",
     "exception": false,
     "start_time": "2021-02-20T22:13:35.556598",
     "status": "completed"
    },
    "tags": []
   },
   "source": [
    "from sklearn.tree import DecisionTreeClassifier \n",
    "dtree_model = DecisionTreeClassifier().fit(full_train_x,full_train_y) \n",
    "predictions = dtree_model.predict(test_X)\n",
    "from sklearn.metrics import accuracy_score\n",
    "accuracy_score(test_Y,predictions)"
   ]
  },
  {
   "cell_type": "markdown",
   "metadata": {
    "papermill": {
     "duration": 70.953848,
     "end_time": "2021-02-20T22:17:08.592966",
     "exception": false,
     "start_time": "2021-02-20T22:15:57.639118",
     "status": "completed"
    },
    "tags": []
   },
   "source": [
    "from sklearn.feature_extraction.text import CountVectorizer, TfidfTransformer\n",
    "from sklearn.naive_bayes import MultinomialNB\n",
    "from sklearn.pipeline import Pipeline\n",
    "NBclassifier = Pipeline([('vect', CountVectorizer()),\n",
    "                      ('tfidf', TfidfTransformer()),\n",
    "                      ('clf', MultinomialNB()),\n",
    "])\n",
    "NBclassifier.fit(train_x, train_y)"
   ]
  },
  {
   "cell_type": "markdown",
   "metadata": {
    "papermill": {
     "duration": 70.755605,
     "end_time": "2021-02-20T22:19:29.911650",
     "exception": false,
     "start_time": "2021-02-20T22:18:19.156045",
     "status": "completed"
    },
    "tags": []
   },
   "source": [
    "from keras.models import Sequential\n",
    "from keras.layers import Dense\n",
    "from keras import layers\n",
    "import keras\n",
    "from keras.optimizers import SGD\n",
    "model = Sequential()\n",
    "model.add(Dense(32, input_dim=9, activation='relu'))\n",
    "model.add(Dense(16, activation='relu'))\n",
    "model.add(Dense(7,activation = 'softmax'))\n",
    "opt = keras.optimizers.Adam(lr=0.001, decay=1e-6)\n",
    "\n",
    "model.compile(\n",
    "    loss='categorical_crossentropy',\n",
    "    optimizer=opt,\n",
    "    metrics=['accuracy'],\n",
    ")\n",
    "#model.compile(optimizer=keras.optimizers.Adam(lr = 0.001,clipvalue = 1),loss=keras.losses.CategoricalCrossentropy(),metrics=[keras.metrics.CategoricalAccuracy()])\n",
    "#model.summary()\n",
    "print(\"Fit model on training data\")\n",
    "history = model.fit(\n",
    "    train_x,\n",
    "    train_y,\n",
    "    batch_size=64,\n",
    "    epochs=10,\n",
    "    validation_data=(val_x,val_y),\n",
    ")"
   ]
  }
 ],
 "metadata": {
  "kernelspec": {
   "display_name": "Python 3",
   "language": "python",
   "name": "python3"
  },
  "language_info": {
   "codemirror_mode": {
    "name": "ipython",
    "version": 3
   },
   "file_extension": ".py",
   "mimetype": "text/x-python",
   "name": "python",
   "nbconvert_exporter": "python",
   "pygments_lexer": "ipython3",
   "version": "3.7.9"
  },
  "papermill": {
   "default_parameters": {},
   "duration": 15947.551414,
   "end_time": "2021-02-20T22:20:44.629940",
   "environment_variables": {},
   "exception": null,
   "input_path": "__notebook__.ipynb",
   "output_path": "__notebook__.ipynb",
   "parameters": {},
   "start_time": "2021-02-20T17:54:57.078526",
   "version": "2.2.2"
  }
 },
 "nbformat": 4,
 "nbformat_minor": 4
}
