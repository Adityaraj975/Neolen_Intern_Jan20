{
 "cells": [
  {
   "cell_type": "code",
   "execution_count": 5,
   "metadata": {},
   "outputs": [
    {
     "name": "stdout",
     "output_type": "stream",
     "text": [
      " \n",
      "Score for Dream Team is 732\n"
     ]
    },
    {
     "data": {
      "text/html": [
       "<style>.container { width:80% !important; }</style>"
      ],
      "text/plain": [
       "<IPython.core.display.HTML object>"
      ]
     },
     "metadata": {},
     "output_type": "display_data"
    },
    {
     "name": "stdout",
     "output_type": "stream",
     "text": [
      " \n",
      "Score for Dream Team is 577\n"
     ]
    },
    {
     "data": {
      "text/html": [
       "<style>.container { width:80% !important; }</style>"
      ],
      "text/plain": [
       "<IPython.core.display.HTML object>"
      ]
     },
     "metadata": {},
     "output_type": "display_data"
    },
    {
     "name": "stdout",
     "output_type": "stream",
     "text": [
      " \n",
      "Score for Dream Team is 575\n"
     ]
    },
    {
     "data": {
      "text/html": [
       "<style>.container { width:80% !important; }</style>"
      ],
      "text/plain": [
       "<IPython.core.display.HTML object>"
      ]
     },
     "metadata": {},
     "output_type": "display_data"
    },
    {
     "name": "stdout",
     "output_type": "stream",
     "text": [
      " \n",
      "Score for Dream Team is 740\n"
     ]
    },
    {
     "data": {
      "text/html": [
       "<style>.container { width:80% !important; }</style>"
      ],
      "text/plain": [
       "<IPython.core.display.HTML object>"
      ]
     },
     "metadata": {},
     "output_type": "display_data"
    },
    {
     "name": "stdout",
     "output_type": "stream",
     "text": [
      " \n",
      "Score for Dream Team is 557\n"
     ]
    },
    {
     "data": {
      "text/html": [
       "<style>.container { width:80% !important; }</style>"
      ],
      "text/plain": [
       "<IPython.core.display.HTML object>"
      ]
     },
     "metadata": {},
     "output_type": "display_data"
    },
    {
     "name": "stdout",
     "output_type": "stream",
     "text": [
      " \n",
      "Score for Dream Team is 657\n"
     ]
    },
    {
     "data": {
      "text/html": [
       "<style>.container { width:80% !important; }</style>"
      ],
      "text/plain": [
       "<IPython.core.display.HTML object>"
      ]
     },
     "metadata": {},
     "output_type": "display_data"
    },
    {
     "name": "stdout",
     "output_type": "stream",
     "text": [
      " \n",
      "Score for Dream Team is 584\n"
     ]
    },
    {
     "data": {
      "text/html": [
       "<style>.container { width:80% !important; }</style>"
      ],
      "text/plain": [
       "<IPython.core.display.HTML object>"
      ]
     },
     "metadata": {},
     "output_type": "display_data"
    },
    {
     "name": "stdout",
     "output_type": "stream",
     "text": [
      "55.176292837398066\n"
     ]
    }
   ],
   "source": [
    "import psycopg2\n",
    "import pandas as pd\n",
    "test_year = 2020\n",
    "test_month = 11\n",
    "start_time = 12\n",
    "results = []\n",
    "\n",
    "conn = psycopg2.connect(\"dbname=cricket host =sportsanalytics.in user=postgres password=Sumit@123 \")\n",
    "nov_date = [1,2,3,5,6,8,10]\n",
    "for date in nov_date:\n",
    "    res1 = []\n",
    "    test_date = date\n",
    "    %run ./Dream_Team.ipynb\n",
    "    playing_11 = player_team1_team2_dt\n",
    "    %run ./Team_pred_2.ipynb\n",
    "    res1.append(max_score)\n",
    "    pred_scores = []\n",
    "    teamn = 1\n",
    "    for i in pred_teams:\n",
    "        s = 0\n",
    "        for j in i:\n",
    "            s = s + fantasy_points_dt[j]\n",
    "        res1.append(s)\n",
    "    #print(f\"our score for team number {teamn} is {s}\")\n",
    "    #teamn = teamn + 1\n",
    "    #for ps in pred_scores:\n",
    "    #    res1.append(ps)\n",
    "    results.append(res1)\n",
    "sum_cv = 0\n",
    "n_cv = 0\n",
    "for i in results:\n",
    "    for j in range(1,len(i)):\n",
    "        sum_cv = sum_cv + i[j]/i[0]\n",
    "        n_cv = n_cv+1\n",
    "print(sum_cv*100/n_cv)"
   ]
  },
  {
   "cell_type": "code",
   "execution_count": 6,
   "metadata": {},
   "outputs": [],
   "source": [
    "(pd.DataFrame(results)).to_csv(\"Results_nov.csv\")"
   ]
  }
 ],
 "metadata": {
  "kernelspec": {
   "display_name": "Python 3",
   "language": "python",
   "name": "python3"
  },
  "language_info": {
   "codemirror_mode": {
    "name": "ipython",
    "version": 3
   },
   "file_extension": ".py",
   "mimetype": "text/x-python",
   "name": "python",
   "nbconvert_exporter": "python",
   "pygments_lexer": "ipython3",
   "version": "3.8.5"
  }
 },
 "nbformat": 4,
 "nbformat_minor": 4
}
