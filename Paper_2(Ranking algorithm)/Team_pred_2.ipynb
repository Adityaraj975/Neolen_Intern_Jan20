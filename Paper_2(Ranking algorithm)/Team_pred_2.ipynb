{
 "cells": [
  {
   "cell_type": "code",
   "execution_count": 1,
   "metadata": {},
   "outputs": [],
   "source": [
    "#host - trusted-prediction-research.c8qtxwbvasgw.ap-south-1.rds.amazonaws.com\n",
    "#user - postgres\n",
    "#passoword - ynKrco0QWa56iez8sKtG"
   ]
  },
  {
   "cell_type": "code",
   "execution_count": 2,
   "metadata": {},
   "outputs": [
    {
     "data": {
      "text/html": [
       "<style>.container { width:80% !important; }</style>"
      ],
      "text/plain": [
       "<IPython.core.display.HTML object>"
      ]
     },
     "metadata": {},
     "output_type": "display_data"
    }
   ],
   "source": [
    "from IPython.core.display import display, HTML\n",
    "display(HTML(\"<style>.container { width:80% !important; }</style>\"))"
   ]
  },
  {
   "cell_type": "code",
   "execution_count": 4,
   "metadata": {},
   "outputs": [],
   "source": [
    "import numpy as np\n",
    "import pandas as pd\n",
    "import psycopg2"
   ]
  },
  {
   "cell_type": "markdown",
   "metadata": {},
   "source": [
    "# Extracting IPL2020 Data"
   ]
  },
  {
   "cell_type": "code",
   "execution_count": 5,
   "metadata": {},
   "outputs": [],
   "source": [
    "conn = psycopg2.connect(\"dbname=cricket host =sportsanalytics.in user=postgres password=Sumit@123 \")"
   ]
  },
  {
   "cell_type": "code",
   "execution_count": 6,
   "metadata": {},
   "outputs": [],
   "source": [
    "series = pd.read_sql_query(\"SELECT id FROM cds_series_series WHERE league_id = 4 OR league_id = 3\", conn)"
   ]
  },
  {
   "cell_type": "code",
   "execution_count": 7,
   "metadata": {},
   "outputs": [],
   "source": [
    "IPL_player_battingstats = pd.read_sql_query(\"SELECT * FROM cds_playerstats_playerbattingstats WHERE league_id = 4  \", conn)\n",
    "T20_player_battingstats = pd.read_sql_query(\"SELECT * FROM cds_playerstats_playerbattingstats WHERE league_id = 3  \", conn)\n",
    "IPL_player_bowlingstats = pd.read_sql_query(\"SELECT * FROM cds_playerstats_playerbowlingstats WHERE league_id = 4  \", conn)\n",
    "T20_player_bowlingstats = pd.read_sql_query(\"SELECT * FROM cds_playerstats_playerbowlingstats WHERE league_id = 3  \", conn)"
   ]
  },
  {
   "cell_type": "code",
   "execution_count": 8,
   "metadata": {},
   "outputs": [],
   "source": [
    "playerid_order = pd.read_sql_query(\"SELECT * FROM cds_scorecard_matchplayers\", conn)"
   ]
  },
  {
   "cell_type": "code",
   "execution_count": 9,
   "metadata": {},
   "outputs": [],
   "source": [
    "playerid_names = pd.read_sql_query(\"SELECT id,name FROM cds_player_player\", conn)"
   ]
  },
  {
   "cell_type": "code",
   "execution_count": 10,
   "metadata": {},
   "outputs": [],
   "source": [
    "playerid_names = dict(zip(playerid_names['id'],playerid_names['name']))"
   ]
  },
  {
   "cell_type": "code",
   "execution_count": 11,
   "metadata": {},
   "outputs": [],
   "source": [
    "bowlerid_type = pd.read_csv(\"bowlerid_type\")"
   ]
  },
  {
   "cell_type": "code",
   "execution_count": 12,
   "metadata": {},
   "outputs": [],
   "source": [
    "bowlerid_type = bowlerid_type.dropna()"
   ]
  },
  {
   "cell_type": "markdown",
   "metadata": {},
   "source": [
    "# Data preprocessing"
   ]
  },
  {
   "cell_type": "code",
   "execution_count": 13,
   "metadata": {},
   "outputs": [],
   "source": [
    "IPL_player_battingstats = IPL_player_battingstats.drop(['id','ranking','style','centuries','half_centuries','zero_outs','highest_run','span','league_id'],1)\n",
    "T20_player_battingstats = T20_player_battingstats.drop(['id','ranking','style','centuries','half_centuries','zero_outs','highest_run','span','league_id'],1)\n",
    "T20_player_bowlingstats = T20_player_bowlingstats.drop(['id','ranking','style','stumpings','bbl','catches','maidens','span','league_id'],1)\n",
    "IPL_player_bowlingstats = IPL_player_bowlingstats.drop(['id','ranking','style','stumpings','bbl','catches','maidens','span','league_id'],1)                       "
   ]
  },
  {
   "cell_type": "code",
   "execution_count": 14,
   "metadata": {},
   "outputs": [],
   "source": [
    "playerid_order = playerid_order[{'player_id','order'}]\n",
    "playerid_order = dict(zip(playerid_order.groupby('player_id').mean().index,round(playerid_order.groupby('player_id').mean()['order'])))\n",
    "plidorder = {}\n",
    "for i in IPL_player_battingstats['player_id']:\n",
    "    plidorder[i] = playerid_order[i]\n",
    "playerid_order = plidorder"
   ]
  },
  {
   "cell_type": "markdown",
   "metadata": {},
   "source": [
    "## Indices for player ranking"
   ]
  },
  {
   "cell_type": "code",
   "execution_count": 15,
   "metadata": {},
   "outputs": [],
   "source": [
    "pid = IPL_player_battingstats['player_id']\n",
    "hss = (IPL_player_battingstats['fours']*4 + IPL_player_battingstats['sixes']*6)/IPL_player_battingstats['balls_faced']\n",
    "IPL_HSS = dict((zip(pid,hss)))\n",
    "pid = T20_player_battingstats['player_id']\n",
    "hss = (T20_player_battingstats['fours']*4 + T20_player_battingstats['sixes']*6)/T20_player_battingstats['balls_faced']\n",
    "T20_HSS = dict((zip(pid,hss)))"
   ]
  },
  {
   "cell_type": "code",
   "execution_count": 16,
   "metadata": {},
   "outputs": [],
   "source": [
    "pid = IPL_player_battingstats['player_id']\n",
    "fs = IPL_player_battingstats['not_out']/IPL_player_battingstats['innings']\n",
    "IPL_FS = dict((zip(pid,fs)))\n",
    "pid = T20_player_battingstats['player_id']\n",
    "fs = T20_player_battingstats['not_out']/IPL_player_battingstats['innings']\n",
    "T20_FS = dict((zip(pid,fs)))"
   ]
  },
  {
   "cell_type": "code",
   "execution_count": 17,
   "metadata": {},
   "outputs": [],
   "source": [
    "pid = IPL_player_battingstats['player_id']\n",
    "sr = IPL_player_battingstats['strike_rate']\n",
    "IPL_SR = dict((zip(pid,sr)))\n",
    "pid = T20_player_battingstats['player_id']\n",
    "sr = T20_player_battingstats['strike_rate']\n",
    "T20_SR = dict((zip(pid,sr)))"
   ]
  },
  {
   "cell_type": "code",
   "execution_count": 18,
   "metadata": {},
   "outputs": [],
   "source": [
    "pid = IPL_player_battingstats['player_id']\n",
    "average = IPL_player_battingstats['average']\n",
    "IPL_CS = dict((zip(pid,average)))\n",
    "pid = T20_player_battingstats['player_id']\n",
    "average = T20_player_battingstats['average']\n",
    "T20_CS = dict((zip(pid,average)))"
   ]
  },
  {
   "cell_type": "code",
   "execution_count": 19,
   "metadata": {},
   "outputs": [],
   "source": [
    "pid = IPL_player_battingstats['player_id']\n",
    "RBW = (IPL_player_battingstats['runs'] - (IPL_player_battingstats['fours']*4 + IPL_player_battingstats['sixes']*6))/(IPL_player_battingstats['balls_faced'] - IPL_player_battingstats['fours'] - IPL_player_battingstats['sixes'])\n",
    "IPL_RBW = dict((zip(pid,RBW)))\n",
    "pid = T20_player_battingstats['player_id']\n",
    "RBW = (T20_player_battingstats['runs'] - (T20_player_battingstats['fours']*4 + T20_player_battingstats['sixes']*6))/(T20_player_battingstats['balls_faced'] - T20_player_battingstats['fours'] - T20_player_battingstats['sixes'])\n",
    "T20_RBW = dict((zip(pid,RBW)))"
   ]
  },
  {
   "cell_type": "code",
   "execution_count": 20,
   "metadata": {},
   "outputs": [],
   "source": [
    "pid = IPL_player_bowlingstats['player_id']\n",
    "es = IPL_player_bowlingstats['economy']\n",
    "IPL_ES = dict((zip(pid,es)))\n",
    "pid = T20_player_bowlingstats['player_id']\n",
    "es = T20_player_bowlingstats['economy']\n",
    "T20_ES = dict((zip(pid,es)))"
   ]
  },
  {
   "cell_type": "code",
   "execution_count": 21,
   "metadata": {},
   "outputs": [],
   "source": [
    "pid = IPL_player_bowlingstats['player_id']\n",
    "cs = IPL_player_bowlingstats['runs']/IPL_player_bowlingstats['wickets']\n",
    "IPL_BCS = dict((zip(pid,cs)))\n",
    "pid = T20_player_bowlingstats['player_id']\n",
    "cs = T20_player_bowlingstats['runs']/IPL_player_bowlingstats['wickets']\n",
    "T20_BCS = dict((zip(pid,cs)))"
   ]
  },
  {
   "cell_type": "code",
   "execution_count": 22,
   "metadata": {},
   "outputs": [],
   "source": [
    "pid = IPL_player_bowlingstats['player_id']\n",
    "wts = IPL_player_bowlingstats['balls']/IPL_player_bowlingstats['wickets']\n",
    "IPL_WTS = dict((zip(pid,wts)))\n",
    "pid = T20_player_bowlingstats['player_id']\n",
    "wts = T20_player_bowlingstats['balls']/IPL_player_bowlingstats['wickets']\n",
    "T20_WTS = dict((zip(pid,wts)))"
   ]
  },
  {
   "cell_type": "code",
   "execution_count": 23,
   "metadata": {},
   "outputs": [],
   "source": [
    "pid = IPL_player_bowlingstats['player_id']\n",
    "bwts = (IPL_player_bowlingstats['wicket_4']+IPL_player_bowlingstats['wicket_5'])/IPL_player_bowlingstats['innings']\n",
    "IPL_BWTS = dict((zip(pid,bwts)))\n",
    "pid = T20_player_bowlingstats['player_id']\n",
    "bwts = (T20_player_bowlingstats['wicket_4']+T20_player_bowlingstats['wicket_5'])/T20_player_bowlingstats['innings']\n",
    "T20_BWTS = dict((zip(pid,bwts)))"
   ]
  },
  {
   "cell_type": "code",
   "execution_count": 24,
   "metadata": {},
   "outputs": [],
   "source": [
    "pid = IPL_player_bowlingstats['player_id']\n",
    "sps = (IPL_player_bowlingstats['wickets']-4*IPL_player_bowlingstats['wicket_4']-5*IPL_player_bowlingstats['wicket_5'])/(IPL_player_bowlingstats['innings']-IPL_player_bowlingstats['wicket_4']-IPL_player_bowlingstats['wicket_5'])\n",
    "IPL_SPS = dict((zip(pid,sps)))\n",
    "pid = T20_player_bowlingstats['player_id']\n",
    "sps = (T20_player_bowlingstats['wickets']-4*T20_player_bowlingstats['wicket_4']-5*T20_player_bowlingstats['wicket_5'])/(T20_player_bowlingstats['innings']-T20_player_bowlingstats['wicket_4']-T20_player_bowlingstats['wicket_5'])\n",
    "T20_SPS = dict((zip(pid,sps)))"
   ]
  },
  {
   "cell_type": "markdown",
   "metadata": {},
   "source": [
    "# Ranking algorithm for Batsmen"
   ]
  },
  {
   "cell_type": "code",
   "execution_count": 25,
   "metadata": {},
   "outputs": [],
   "source": [
    "import operator\n",
    "finishers = (list(dict( sorted(IPL_FS.items(), key=operator.itemgetter(1),reverse=True)).keys())[0:150])   #taking 150 finishers"
   ]
  },
  {
   "cell_type": "code",
   "execution_count": 26,
   "metadata": {},
   "outputs": [],
   "source": [
    "top_order_batsmen = list(dict( sorted(playerid_order.items(), key=operator.itemgetter(1))).keys())[0:150]"
   ]
  },
  {
   "cell_type": "code",
   "execution_count": 27,
   "metadata": {},
   "outputs": [],
   "source": [
    "allrounderid = pd.read_csv('Allrounderid.csv')\n",
    "allrounderid = list(allrounderid['0'])"
   ]
  },
  {
   "cell_type": "code",
   "execution_count": 28,
   "metadata": {},
   "outputs": [],
   "source": [
    "middle_order_batsmen = list(dict( sorted(playerid_order.items(), key=operator.itemgetter(1))).keys())[151:]"
   ]
  },
  {
   "cell_type": "code",
   "execution_count": 29,
   "metadata": {},
   "outputs": [],
   "source": [
    "inexp_batsman_id = list(IPL_player_battingstats['player_id'][IPL_player_battingstats['innings']<6])"
   ]
  },
  {
   "cell_type": "code",
   "execution_count": 30,
   "metadata": {},
   "outputs": [],
   "source": [
    "for i in inexp_batsman_id :\n",
    "    if(top_order_batsmen.count(i)==1):\n",
    "        top_order_batsmen.remove(i)\n",
    "    if(allrounderid.count(i)==1):\n",
    "        allrounderid.remove(i)\n",
    "    if(middle_order_batsmen.count(i)==1):\n",
    "        middle_order_batsmen.remove(i)\n",
    "for i in allrounderid:\n",
    "    if(top_order_batsmen.count(i)==1):\n",
    "        top_order_batsmen.remove(i)\n",
    "    if(middle_order_batsmen.count(i)==1):\n",
    "        middle_order_batsmen.remove(i)"
   ]
  },
  {
   "cell_type": "code",
   "execution_count": 31,
   "metadata": {},
   "outputs": [],
   "source": [
    "tob_ranking_points = {}\n",
    "for i in top_order_batsmen:\n",
    "    if(list(T20_CS.keys()).count(i)==0):\n",
    "        tob_ranking_points[i]  = 0.383*IPL_RBW[i]+0.247*IPL_CS[i]+0.196*IPL_CS[i]+0.174*IPL_FS[i]\n",
    "    else:\n",
    "        tob_ranking_points[i]  = 0.383*IPL_RBW[i]+0.247*T20_CS[i]+0.196*IPL_CS[i]+0.174*T20_FS[i]\n",
    "tob_ranks = (list(dict( sorted(tob_ranking_points.items(), key=operator.itemgetter(1),reverse=True)).keys()))"
   ]
  },
  {
   "cell_type": "code",
   "execution_count": 32,
   "metadata": {},
   "outputs": [],
   "source": [
    "mob_ranking_points = {}\n",
    "for i in middle_order_batsmen:\n",
    "    if(list(T20_CS.keys()).count(i)==0):\n",
    "        mob_ranking_points[i]  = 0.339*IPL_CS[i]+0.337*IPL_HSS[i]+0.234*IPL_FS[i]+0.082*IPL_FS[i]+0.008*IPL_FS[i]\n",
    "    else:\n",
    "        mob_ranking_points[i]  = 0.339*IPL_CS[i]+0.337*IPL_HSS[i]+0.234*IPL_FS[i]+0.082*T20_FS[i]+0.008*IPL_FS[i]\n",
    "mob_ranks = (list(dict( sorted(mob_ranking_points.items(), key=operator.itemgetter(1),reverse=True)).keys()))"
   ]
  },
  {
   "cell_type": "code",
   "execution_count": 33,
   "metadata": {},
   "outputs": [],
   "source": [
    "finishers_ranking_points = {}\n",
    "for i in finishers:\n",
    "    if(list(T20_CS.keys()).count(i)==0):\n",
    "        finishers_ranking_points[i]  = 0.299*IPL_FS[i]+0.262*IPL_HSS[i]+0.241*IPL_FS[i]+0.108*IPL_HSS[i]+0.089*IPL_RBW[i]\n",
    "    else:\n",
    "        finishers_ranking_points[i]  = 0.299*IPL_FS[i]+0.262*T20_HSS[i]+0.241*T20_FS[i]+0.108*IPL_HSS[i]+0.089*IPL_RBW[i]\n",
    "finishers_ranks = (list(dict( sorted(finishers_ranking_points.items(), key=operator.itemgetter(1),reverse=True)).keys()))"
   ]
  },
  {
   "cell_type": "code",
   "execution_count": 34,
   "metadata": {},
   "outputs": [],
   "source": [
    "inexp_ranking_points = {}\n",
    "for i in inexp_batsman_id:\n",
    "    if(list(T20_CS.keys()).count(i)==0):\n",
    "        inexp_ranking_points[i]  = 0.299*IPL_FS[i]+0.262*IPL_HSS[i]+0.241*IPL_FS[i]+0.108*IPL_HSS[i]+0.089*IPL_RBW[i]\n",
    "    else:\n",
    "        inexp_ranking_points[i]  = 0.364*T20_CS[i]+0.301*T20_HSS[i]+0.113*T20_FS[i]+0.107*T20_FS[i]+0.105*T20_RBW[i]\n",
    "inexp_ranks = tob_ranks = (list(dict( sorted(inexp_ranking_points.items(), key=operator.itemgetter(1),reverse=True)).keys()))"
   ]
  },
  {
   "cell_type": "markdown",
   "metadata": {},
   "source": [
    "# Ranking Algorithm for bowlers and all rounders"
   ]
  },
  {
   "cell_type": "code",
   "execution_count": 39,
   "metadata": {},
   "outputs": [],
   "source": [
    "bowlerid_type = dict(zip(bowlerid_type['id'],bowlerid_type['bowler_type']))"
   ]
  },
  {
   "cell_type": "code",
   "execution_count": 40,
   "metadata": {},
   "outputs": [],
   "source": [
    "IPL_bowlerid_type = {}\n",
    "IPL_bowler_nodata = []"
   ]
  },
  {
   "cell_type": "code",
   "execution_count": 41,
   "metadata": {},
   "outputs": [],
   "source": [
    "for i in IPL_player_bowlingstats['player_id']:\n",
    "    if(bowlerid_type.get(i)):\n",
    "        IPL_bowlerid_type[i] = bowlerid_type[i]\n",
    "    else:\n",
    "        IPL_bowler_nodata.append(i)"
   ]
  },
  {
   "cell_type": "code",
   "execution_count": 42,
   "metadata": {},
   "outputs": [],
   "source": [
    "IPL_bowlerid_type[1062] = 'PACER'   #manually adding bowler type whose data is not available using nodata list\n",
    "IPL_bowlerid_type[42] = 'PACER'"
   ]
  },
  {
   "cell_type": "code",
   "execution_count": 43,
   "metadata": {},
   "outputs": [],
   "source": [
    "bowlerids = list(IPL_bowlerid_type.keys())"
   ]
  },
  {
   "cell_type": "code",
   "execution_count": 44,
   "metadata": {},
   "outputs": [],
   "source": [
    "for i in allrounderid:\n",
    "    if(bowlerids.count(i)==1):\n",
    "        bowlerids.remove(i)"
   ]
  },
  {
   "cell_type": "code",
   "execution_count": 45,
   "metadata": {},
   "outputs": [],
   "source": [
    "inexp_bowlers_id = list(IPL_player_bowlingstats['player_id'][IPL_player_bowlingstats['innings']<6])"
   ]
  },
  {
   "cell_type": "code",
   "execution_count": 46,
   "metadata": {},
   "outputs": [],
   "source": [
    "for i in inexp_bowlers_id:\n",
    "    if(allrounderid.count(i)==1):\n",
    "        allrounderid.remove(i)\n",
    "    if(bowlerids.count(i)==1):\n",
    "        bowlerids.remove(i)"
   ]
  },
  {
   "cell_type": "code",
   "execution_count": 47,
   "metadata": {},
   "outputs": [],
   "source": [
    "bowlerspinner = []\n",
    "bowlerpacer = []\n",
    "allrounderspinner = []\n",
    "allrounderpacer = []\n",
    "for i in allrounderid:\n",
    "    if(bowlerid_type[i]=='PACER'):\n",
    "        allrounderpacer.append(i)\n",
    "    else:\n",
    "        allrounderspinner.append(i)\n",
    "bowlerids.remove(42)\n",
    "for i in bowlerids:\n",
    "    if(bowlerid_type[i]=='PACER'):\n",
    "        bowlerpacer.append(i)\n",
    "    else:\n",
    "        bowlerspinner.append(i)\n",
    "    "
   ]
  },
  {
   "cell_type": "code",
   "execution_count": 48,
   "metadata": {},
   "outputs": [],
   "source": [
    "spinb_ranking_points = {}\n",
    "for i in bowlerspinner:\n",
    "    if(list(T20_BCS.keys()).count(i)==0):\n",
    "        spinb_ranking_points[i]  = 0.490*IPL_SPS[i]+0.157*IPL_SPS[i]+0.157*IPL_WTS[i]+0.102*IPL_BWTS[i]\n",
    "    else:\n",
    "        spinb_ranking_points[i]  = 0.490*IPL_SPS[i]+0.157*T20_SPS[i]+0.157*IPL_WTS[i]+0.102*T20_BWTS[i]\n",
    "spinb_ranks = (list(dict( sorted(spinb_ranking_points.items(), key=operator.itemgetter(1),reverse=True)).keys()))"
   ]
  },
  {
   "cell_type": "code",
   "execution_count": 49,
   "metadata": {},
   "outputs": [],
   "source": [
    "paceb_ranking_points = {}\n",
    "for i in bowlerpacer:\n",
    "    if(list(T20_BCS.keys()).count(i)==0):\n",
    "        paceb_ranking_points[i]  = 0.197*IPL_BWTS[i]+0.299*IPL_SPS[i]+0.328*IPL_ES[i]+0.175*IPL_SPS[i]\n",
    "    else:\n",
    "        paceb_ranking_points[i]  = 0.197*IPL_BWTS[i]+0.299*IPL_SPS[i]+0.328*IPL_ES[i]+0.175*T20_SPS[i]\n",
    "paceb_ranks = (list(dict( sorted(paceb_ranking_points.items(), key=operator.itemgetter(1),reverse=True)).keys()))"
   ]
  },
  {
   "cell_type": "code",
   "execution_count": 50,
   "metadata": {},
   "outputs": [],
   "source": [
    "inexpb_ranking_points = {}\n",
    "for i in inexp_bowlers_id:\n",
    "    if(list(T20_BCS.keys()).count(i)==0):\n",
    "        inexpb_ranking_points[i]  = 0.829*IPL_SPS[i]+0.120*IPL_BCS[i]+0.050*IPL_ES[i]\n",
    "    else:\n",
    "        inexpb_ranking_points[i]  = 0.829*IPL_SPS[i]+0.120*T20_BCS[i]+0.050*T20_ES[i]\n",
    "inexpb_ranks = (list(dict( sorted(inexpb_ranking_points.items(), key=operator.itemgetter(1),reverse=True)).keys()))"
   ]
  },
  {
   "cell_type": "code",
   "execution_count": 51,
   "metadata": {},
   "outputs": [],
   "source": [
    "spinall_ranking_points = {}\n",
    "allrounderspinner.remove(518)\n",
    "for i in allrounderspinner:\n",
    "    if(list(T20_BCS.keys()).count(i)==0):\n",
    "        spinall_ranking_points[i]  = 0.393*IPL_BWTS[i]+0.250*IPL_ES[i]+0.222*IPL_ES[i]+0.135*IPL_WTS[i]\n",
    "    else:\n",
    "        spinall_ranking_points[i]  = 0.393*T20_BWTS[i]+0.250*IPL_ES[i]+0.222*T20_ES[i]+0.135*T20_WTS[i]\n",
    "spinall_ranks = (list(dict( sorted(spinall_ranking_points.items(), key=operator.itemgetter(1),reverse=True)).keys()))"
   ]
  },
  {
   "cell_type": "code",
   "execution_count": 52,
   "metadata": {},
   "outputs": [],
   "source": [
    "paceall_ranking_points = {}\n",
    "for i in allrounderpacer:\n",
    "    if(list(T20_BCS.keys()).count(i)==0):\n",
    "        paceall_ranking_points[i]  = 0.320*IPL_SPS[i]+0.222*IPL_WTS[i]+0.190*IPL_BWTS[i]+0.173*IPL_BCS[i]+0.095*IPL_SPS[i]\n",
    "    else:\n",
    "        paceall_ranking_points[i]  = 0.320*T20_SPS[i]+0.222*T20_WTS[i]+0.190*T20_BWTS[i]+0.173*T20_BCS[i]+0.095*IPL_SPS[i]\n",
    "paceall_ranks = (list(dict( sorted(paceall_ranking_points.items(), key=operator.itemgetter(1),reverse=True)).keys()))"
   ]
  },
  {
   "cell_type": "code",
   "execution_count": 58,
   "metadata": {},
   "outputs": [],
   "source": [
    "#playing_11 = [23, 18, 17, 19, 1063, 1, 132, 150, 608, 676, 31, 589, 1030, 29, 86, 1061, 200, 1062, 599, 274, 1007, 1044]"
   ]
  },
  {
   "cell_type": "code",
   "execution_count": 59,
   "metadata": {},
   "outputs": [],
   "source": [
    "# Selecting 3 top order batsmen\n",
    "tob_team = []\n",
    "for i in tob_ranks :\n",
    "    if(playing_11.count(i)==1):\n",
    "        tob_team.append(i)\n",
    "    if(len(np.unique(tob_team)==3)):\n",
    "        break\n",
    "# Selecting 3 middle order batsmen\n",
    "mob_team = []\n",
    "for i in mob_ranks :\n",
    "    if(playing_11.count(i)==1):\n",
    "        mob_team.append(i)\n",
    "    if(len(np.unique(mob_team))==3):\n",
    "        break\n",
    "# Selecting 2 best finisher\n",
    "finisher_team = []\n",
    "for i in finishers_ranks :\n",
    "    if(playing_11.count(i)==1):\n",
    "        finisher_team.append(i)\n",
    "    if(len(np.unique(finisher_team))==2):\n",
    "        break\n",
    "# Selecting 2 spin allrounder\n",
    "spinall_team = []\n",
    "for i in spinall_ranks :\n",
    "    if(playing_11.count(i)==1):\n",
    "        spinall_team.append(i)\n",
    "    if(len(np.unique(spinall_team))==2):\n",
    "        break\n",
    "# Selecting 2 pace allrounder\n",
    "paceall_team = []\n",
    "for i in paceall_ranks :\n",
    "    if(playing_11.count(i)==1):\n",
    "        paceall_team.append(i)\n",
    "    if(len(np.unique(paceall_team))==2):\n",
    "        break\n",
    "# Selecting 2 spinner \n",
    "spinb_team = []\n",
    "for i in spinb_ranks :\n",
    "    if(playing_11.count(i)==1):\n",
    "        spinb_team.append(i)\n",
    "    if(len(np.unique(spinb_team))==3):\n",
    "        break\n",
    "# Selecting 3 pace bowler\n",
    "paceb_team = []\n",
    "for i in paceb_ranks :\n",
    "    if(playing_11.count(i)==1):\n",
    "        paceb_team.append(i)\n",
    "    if(len(np.unique(paceb_team))==3):\n",
    "        break\n",
    "# Selecting 2 inexperienced player\n",
    "inexp = []\n",
    "for i in inexp_ranks :\n",
    "    if(playing_11.count(i)==1):\n",
    "        inexp.append(i)\n",
    "        break\n",
    "for i in inexpb_ranks :\n",
    "    if(playing_11.count(i)==1):\n",
    "        inexp.append(i)\n",
    "        break\n",
    "import random\n",
    "pred_teams = []\n",
    "no_teams = 10\n",
    "for i in range(0,no_teams):\n",
    "    team = []\n",
    "    if(len(tob_team)>=2) : team.append(random.sample(tob_team,2))\n",
    "    else : team.append([tob_team[0]])\n",
    "    if(len(mob_team)>=2) : team.append(random.sample(mob_team,2))\n",
    "    else : team.append([mob_team[0]])\n",
    "    if(len(finisher_team)>=1): team.append(random.sample(finisher_team,1))\n",
    "    if(len(spinall_team)>=1): team.append(random.sample(spinall_team,1))\n",
    "    if(len(paceall_team)>=1): team.append(random.sample(paceall_team,1))\n",
    "    if(len(spinb_team)>=1): team.append(random.sample(spinb_team,1))\n",
    "    if(len(paceb_team)>=2): team.append(random.sample(paceb_team,2))\n",
    "    if(len(inexp)>=1): team.append(random.sample(inexp,1))\n",
    "    team = [item for sublist in team for item in sublist]\n",
    "    while(len(np.unique(team))!=11):\n",
    "        team.append(random.choice(playing_11))\n",
    "    team = np.unique(team)\n",
    "    pred_teams.append(team)"
   ]
  }
 ],
 "metadata": {
  "kernelspec": {
   "display_name": "Python 3",
   "language": "python",
   "name": "python3"
  },
  "language_info": {
   "codemirror_mode": {
    "name": "ipython",
    "version": 3
   },
   "file_extension": ".py",
   "mimetype": "text/x-python",
   "name": "python",
   "nbconvert_exporter": "python",
   "pygments_lexer": "ipython3",
   "version": "3.8.5"
  }
 },
 "nbformat": 4,
 "nbformat_minor": 4
}
